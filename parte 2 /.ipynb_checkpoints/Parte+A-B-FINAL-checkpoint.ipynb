{
 "cells": [
  {
   "cell_type": "code",
   "execution_count": 7,
   "metadata": {
    "collapsed": false,
    "deletable": true,
    "editable": true
   },
   "outputs": [],
   "source": [
    "#%load_ext snakeviz\n",
    "%matplotlib inline"
   ]
  },
  {
   "cell_type": "code",
   "execution_count": 8,
   "metadata": {
    "collapsed": true,
    "deletable": true,
    "editable": true
   },
   "outputs": [],
   "source": [
    "#librerias utilitarias\n",
    "from random import randint\n",
    "import scipy.io as sio\n",
    "import numpy as np\n",
    "import matplotlib.pyplot as plt"
   ]
  },
  {
   "cell_type": "code",
   "execution_count": 9,
   "metadata": {
    "collapsed": false,
    "deletable": true,
    "editable": true
   },
   "outputs": [],
   "source": [
    "#librerias Keras\n",
    "from keras.models import Sequential\n",
    "from keras.layers.core import Dense, Dropout, Activation, Flatten\n",
    "from keras.layers.convolutional import Convolution2D, MaxPooling2D, AveragePooling2D\n",
    "from keras.optimizers import SGD, Adadelta, Adagrad"
   ]
  },
  {
   "cell_type": "markdown",
   "metadata": {
    "deletable": true,
    "editable": true
   },
   "source": [
    "Dado que Tensorflow esta optimizado para funcionar sobre GPU la creación de los modelos se realizo sobre una maquina virtual EC2 de AWS (Amazon Web Service) del tipo p2.xlarge, cuando se ejecuta Keras en jupyter nos entrega la siguiente información :\n",
    "\n",
    "~~~python\n",
    "I tensorflow/core/common_runtime/gpu/gpu_device.cc:887] Found device 0 with properties:\n",
    "name: Tesla K80\n",
    "major: 3 minor: 7 memoryClockRate (GHz) 0.8235\n",
    "pciBusID 0000:00:1e.0\n",
    "Total memory: 11.17GiB\n",
    "Free memory: 11.11GiB\n",
    "~~~"
   ]
  },
  {
   "cell_type": "markdown",
   "metadata": {},
   "source": [
    "\n",
    "**Nota:**Como es conocido las redes convolucionales contienen dentro de arquitectura procesos computing intensive, principalmente por la cantidad de operaciones matriciales que se realizan por ejemplo en la misma operación de convolución que les da el nombre. Es por esto que para dar soporte al crecimiento de DeepLearning han aparecido librerías como TensorFlow sobre ella Keras para dar soporte a esta capacidad de computo, principalmente sobre GPU.Como aprendizaje extra, motivado por mis propios intereses, se apunto a buscar soluciones que permitieran la paralelización de estas operaciones. Asociado a lo anterior y motivado por la posibilidad de usar, por periodos de tiempos, una maquina del tipo p2.8xlarge AWS(Amazon Web Service) que tiene 8 tarjetas GPU NVidia K80. \n",
    "\n",
    "Podemos ver todas las GPU’s disponibles con el comando de Nvidia:"
   ]
  },
  {
   "cell_type": "code",
   "execution_count": 4,
   "metadata": {
    "collapsed": false,
    "deletable": true,
    "editable": true
   },
   "outputs": [
    {
     "name": "stdout",
     "output_type": "stream",
     "text": [
      "Fri Jun 16 01:15:29 2017       \n",
      "+-----------------------------------------------------------------------------+\n",
      "| NVIDIA-SMI 375.39                 Driver Version: 375.39                    |\n",
      "|-------------------------------+----------------------+----------------------+\n",
      "| GPU  Name        Persistence-M| Bus-Id        Disp.A | Volatile Uncorr. ECC |\n",
      "| Fan  Temp  Perf  Pwr:Usage/Cap|         Memory-Usage | GPU-Util  Compute M. |\n",
      "|===============================+======================+======================|\n",
      "|   0  Tesla K80           Off  | 0000:00:17.0     Off |                    0 |\n",
      "| N/A   63C    P0    60W / 149W |      0MiB / 11439MiB |      0%      Default |\n",
      "+-------------------------------+----------------------+----------------------+\n",
      "|   1  Tesla K80           Off  | 0000:00:18.0     Off |                    0 |\n",
      "| N/A   51C    P0    71W / 149W |      0MiB / 11439MiB |      0%      Default |\n",
      "+-------------------------------+----------------------+----------------------+\n",
      "|   2  Tesla K80           Off  | 0000:00:19.0     Off |                    0 |\n",
      "| N/A   65C    P0    61W / 149W |      0MiB / 11439MiB |      0%      Default |\n",
      "+-------------------------------+----------------------+----------------------+\n",
      "|   3  Tesla K80           Off  | 0000:00:1A.0     Off |                    0 |\n",
      "| N/A   53C    P0    71W / 149W |      0MiB / 11439MiB |      0%      Default |\n",
      "+-------------------------------+----------------------+----------------------+\n",
      "|   4  Tesla K80           Off  | 0000:00:1B.0     Off |                    0 |\n",
      "| N/A   59C    P0    61W / 149W |      0MiB / 11439MiB |      0%      Default |\n",
      "+-------------------------------+----------------------+----------------------+\n",
      "|   5  Tesla K80           Off  | 0000:00:1C.0     Off |                    0 |\n",
      "| N/A   49C    P0    73W / 149W |      0MiB / 11439MiB |      0%      Default |\n",
      "+-------------------------------+----------------------+----------------------+\n",
      "|   6  Tesla K80           Off  | 0000:00:1D.0     Off |                    0 |\n",
      "| N/A   57C    P0    60W / 149W |      0MiB / 11439MiB |      0%      Default |\n",
      "+-------------------------------+----------------------+----------------------+\n",
      "|   7  Tesla K80           Off  | 0000:00:1E.0     Off |                    0 |\n",
      "| N/A   49C    P0    74W / 149W |      0MiB / 11439MiB |      9%      Default |\n",
      "+-------------------------------+----------------------+----------------------+\n",
      "                                                                               \n",
      "+-----------------------------------------------------------------------------+\n",
      "| Processes:                                                       GPU Memory |\n",
      "|  GPU       PID  Type  Process name                               Usage      |\n",
      "|=============================================================================|\n",
      "|  No running processes found                                                 |\n",
      "+-----------------------------------------------------------------------------+\n"
     ]
    }
   ],
   "source": [
    "!nvidia-smi"
   ]
  },
  {
   "cell_type": "markdown",
   "metadata": {
    "deletable": true,
    "editable": true
   },
   "source": [
    "## 2.- CNNs en Google Street View\n",
    "---"
   ]
  },
  {
   "cell_type": "markdown",
   "metadata": {
    "deletable": true,
    "editable": true
   },
   "source": [
    "En esta seccion, trabajaremos con el dataset SVHN (Street View House Numbers), correspondiente a imagenes naturales de dıgitos de direcciones obtenidos desde Google Street View. El dataset contiene mas de 600.000 imagenes de entrenamiento y 26.032 imagenes de test. Para facilitar la realizacion de experimentos, el dataset de entrenamiento se divide usualmente en un conjunto pequeno de 73.257 imagenes y un conjunto “extra” de 531.131 imagenes. **En esta tarea trabajaremos solo con la version pequena**. Los valientes pueden verificar que entrenando sobre el conjunto grande los resultados mejoran significativamente."
   ]
  },
  {
   "cell_type": "markdown",
   "metadata": {
    "deletable": true,
    "editable": true
   },
   "source": [
    "### Archivos"
   ]
  },
  {
   "cell_type": "markdown",
   "metadata": {
    "deletable": true,
    "editable": true
   },
   "source": [
    "![title](google1.png)"
   ]
  },
  {
   "cell_type": "markdown",
   "metadata": {
    "deletable": true,
    "editable": true
   },
   "source": [
    "Los datos pueden ser obtenidos (en formato Matlab) ejecutando los siguientes comandos\n",
    "~~~python\n",
    "wget http://ufldl.stanford.edu/housenumbers/train_32x32.mat\n",
    "wget http://ufldl.stanford.edu/housenumbers/extra_32x32.mat\n",
    "wget http://ufldl.stanford.edu/housenumbers/test_32x32.mat\n",
    "~~~"
   ]
  },
  {
   "cell_type": "markdown",
   "metadata": {
    "deletable": true,
    "editable": true
   },
   "source": [
    "**(a)** Cargue los datos de entrenamiento y pruebas (“train 32x32.mat” y “test 32x32.mat”). Determine el tamaño de las imagenes, el numero de clases diferentes y de ejemplos en cada categoría. Finalmente, visualice 5 imágenes de entrenamiento y 5 de test (elegidas aleatoriamente). Comente."
   ]
  },
  {
   "cell_type": "markdown",
   "metadata": {},
   "source": [
    "El dataset esta en formato Matlab para leer se usa la función sio de scipy, a partir de train_32x32.mat se construye el dataset de entrenamiento y a su vez de test_32x32.mat el dataset de testing. "
   ]
  },
  {
   "cell_type": "code",
   "execution_count": 10,
   "metadata": {
    "collapsed": false,
    "deletable": true,
    "editable": true
   },
   "outputs": [
    {
     "name": "stdout",
     "output_type": "stream",
     "text": [
      "[0 1 2 3 4 5 6 7 8 9]\n"
     ]
    }
   ],
   "source": [
    "#%%snakeviz\n",
    "train_data = sio.loadmat('data/train_32x32.mat')\n",
    "test_data = sio.loadmat('data/test_32x32.mat')\n",
    "X_train = train_data['X'].T\n",
    "y_train = train_data['y'] - 1\n",
    "X_test = test_data['X'].T\n",
    "y_test = test_data['y'] - 1\n",
    "X_train = X_train.astype('float32')\n",
    "X_test = X_test.astype('float32')\n",
    "n_classes = len(np.unique(y_train))\n",
    "print (np.unique(y_train))"
   ]
  },
  {
   "cell_type": "code",
   "execution_count": 14,
   "metadata": {
    "collapsed": false
   },
   "outputs": [
    {
     "name": "stdout",
     "output_type": "stream",
     "text": [
      "(73257, 3, 32, 32)\n",
      "(26032, 3, 32, 32)\n",
      "(73257, 1)\n",
      "(26032, 1)\n"
     ]
    }
   ],
   "source": [
    "print (X_train.shape)\n",
    "print (X_test.shape)\n",
    "print (y_train.shape)\n",
    "print (y_test.shape)"
   ]
  },
  {
   "cell_type": "markdown",
   "metadata": {},
   "source": [
    "Se usará un dataset de **entrenamiento de tamaño 73257** y un dataset de **test de tamaño 26032**. Ademas podemos constatar que estamos trabajando con **imágenes de 3 canales, 32 filas y 32 columnas.**\n",
    "\n",
    "Ahora veremos el tamaño de cada categoría:"
   ]
  },
  {
   "cell_type": "code",
   "execution_count": 16,
   "metadata": {
    "collapsed": false,
    "deletable": true,
    "editable": true
   },
   "outputs": [
    {
     "name": "stdout",
     "output_type": "stream",
     "text": [
      "\n",
      "Dataset de entrenamiento por categoria:\n",
      "('Categoria', '0', ':', '13861')\n",
      "('Categoria', '1', ':', '10585')\n",
      "('Categoria', '2', ':', '8497')\n",
      "('Categoria', '3', ':', '7458')\n",
      "('Categoria', '4', ':', '6882')\n",
      "('Categoria', '5', ':', '5727')\n",
      "('Categoria', '6', ':', '5595')\n",
      "('Categoria', '7', ':', '5045')\n",
      "('Categoria', '8', ':', '4659')\n",
      "('Categoria', '9', ':', '4948')\n",
      "\n",
      "Dataset de prueba por categoria:\n",
      "('Categoria', '0', ':', '5099')\n",
      "('Categoria', '1', ':', '4149')\n",
      "('Categoria', '2', ':', '2882')\n",
      "('Categoria', '3', ':', '2523')\n",
      "('Categoria', '4', ':', '2384')\n",
      "('Categoria', '5', ':', '1977')\n",
      "('Categoria', '6', ':', '2019')\n",
      "('Categoria', '7', ':', '1660')\n",
      "('Categoria', '8', ':', '1595')\n",
      "('Categoria', '9', ':', '1744')\n"
     ]
    }
   ],
   "source": [
    "print (\"\\nDataset de entrenamiento por categoria:\")\n",
    "for i in np.unique(y_train):\n",
    "    print (\"Categoria\",str(i), \":\", str(np.where(y_train==i)[0].shape[0]))\n",
    "\n",
    "print (\"\\nDataset de prueba por categoria:\")\n",
    "for i in np.unique(y_test):\n",
    "    print (\"Categoria\",str(i), \":\", str(np.where(y_test==i)[0].shape[0]))\n"
   ]
  },
  {
   "cell_type": "markdown",
   "metadata": {},
   "source": [
    "**Nota:** Un detalle importante, que debe ser considerado al momento de entrenar la red, es el hecho que hay un desbalance notorio en las categorías en el dataset de entrenamiento. Como vemos las categorias 1 y 0 tienen un numero mayor a las demás categorías, existen técnicas como aumentar el dataset en las otras clases que podría servir en este caso.\n"
   ]
  },
  {
   "cell_type": "code",
   "execution_count": 17,
   "metadata": {
    "collapsed": false,
    "deletable": true,
    "editable": true
   },
   "outputs": [
    {
     "data": {
      "image/png": "[encoded data removed]",
      "text/plain": [
       "<matplotlib.figure.Figure at 0x7f7b482430f0>"
      ]
     },
     "metadata": {},
     "output_type": "display_data"
    }
   ],
   "source": [
    "fig, ax = plt.subplots(nrows=2,ncols=5,figsize=(10,10))\n",
    "fig.subplots_adjust(hspace = 0.0001,wspace = 0.2,left  = 0.125,bottom = 0.001 )\n",
    "aux = 'entrenamiento'\n",
    "for row in ax:\n",
    "    for col in row:\n",
    "        if(aux == 'entrenamiento'):\n",
    "            col.imshow(X_train[randint(0,len(X_train))].T)\n",
    "        else:\n",
    "            col.imshow(X_test[randint(0,len(X_test))].T)\n",
    "    aux == 'test'\n",
    "plt.show()"
   ]
  },
  {
   "cell_type": "markdown",
   "metadata": {
    "deletable": true,
    "editable": true
   },
   "source": [
    "**(b)** Normalice las imagenes, dividiendo las intensidades originales de pixel por 255. Represente adecuadamente la salida deseada de la red de modo de tener un vector de tamano igual al numero de clases.\n",
    "\n",
    "Antes seguir avanzo hay que verificar que el que el  índice correspondiente a los canales de una imagen de entrada sea consistente con las operaciones aquí realizadas. Al verificar el archivo keras.json, tenemos la siguiente configuración:\n",
    "\n",
    "~~~python\n",
    "{\n",
    "    \"epsilon\": 1e-07,\n",
    "    \"floatx\": \"float32\",\n",
    "    \"image_data_format\": \"channels_last\",\n",
    "    \"backend\": \"tensorflow\"\n",
    "}\n",
    "~~~\n",
    "\n",
    "Donde cada la variable `\"image_data_format\": \"channels_last\" `siginfica que para imagenes en 2D data  tenemos el siguiente formato:\n",
    "- **`\"channels_last\"`** implica -> (samples, height, width, **channels**)\n",
    "- **`\"channels_first\"`** implica -> (samples, **channels**, height, width)\n",
    "\n"
   ]
  },
  {
   "cell_type": "markdown",
   "metadata": {},
   "source": [
    "\n",
    "**Normalización:** Como es conocido la no-linealidad de las funciones que se usan en las redes convolucionales, como ReLU, trabajan en intervalos muy acotados por lo cual debe normalizarse el dataset para evitar la saturación de estas funciones.\n"
   ]
  },
  {
   "cell_type": "code",
   "execution_count": 18,
   "metadata": {
    "collapsed": false,
    "deletable": true,
    "editable": true
   },
   "outputs": [
    {
     "name": "stdout",
     "output_type": "stream",
     "text": [
      "(73257, 3, 32, 32)\n",
      "(26032, 3, 32, 32)\n",
      "(73257, 10)\n",
      "(26032, 10)\n"
     ]
    }
   ],
   "source": [
    "from keras.utils import np_utils\n",
    "X_train /= 255\n",
    "X_test /= 255\n",
    "Y_train = np_utils.to_categorical(y_train, n_classes)\n",
    "Y_test = np_utils.to_categorical(y_test, n_classes)\n",
    "print (X_train.shape)\n",
    "print (X_test.shape)\n",
    "print (Y_train.shape)\n",
    "print (Y_test.shape)"
   ]
  },
  {
   "cell_type": "markdown",
   "metadata": {
    "deletable": true,
    "editable": true
   },
   "source": [
    "Como podemos ver la variable `\"image_data_format\": \"channels_last\" ` **no** esta correctamente seteada pues los datos se encuentran en el formato(samples, **channels**, height, width). Por lo cual se debe cambiar la configuración de keras.json\n"
   ]
  },
  {
   "cell_type": "code",
   "execution_count": 8,
   "metadata": {
    "collapsed": false,
    "deletable": true,
    "editable": true
   },
   "outputs": [
    {
     "name": "stdout",
     "output_type": "stream",
     "text": [
      "{\r\n",
      "    \"floatx\": \"float32\",\r\n",
      "    \"epsilon\": 1e-07,\r\n",
      "    \"backend\": \"tensorflow\",\r\n",
      "    \"image_data_format\": \"channels_first\"\r\n",
      "}\r\n"
     ]
    }
   ],
   "source": [
    "cat $HOME/.keras/keras.json"
   ]
  },
  {
   "cell_type": "code",
   "execution_count": 9,
   "metadata": {
    "collapsed": false,
    "deletable": true,
    "editable": true
   },
   "outputs": [
    {
     "data": {
      "text/plain": [
       "'channels_first'"
      ]
     },
     "execution_count": 9,
     "metadata": {},
     "output_type": "execute_result"
    }
   ],
   "source": [
    "from keras import backend as K\n",
    "K.image_data_format()"
   ]
  }
 ],
 "metadata": {
  "anaconda-cloud": {},
  "kernelspec": {
   "display_name": "Python [conda root]",
   "language": "python",
   "name": "conda-root-py"
  },
  "language_info": {
   "codemirror_mode": {
    "name": "ipython",
    "version": 2
   },
   "file_extension": ".py",
   "mimetype": "text/x-python",
   "name": "python",
   "nbconvert_exporter": "python",
   "pygments_lexer": "ipython2",
   "version": "2.7.12"
  }
 },
 "nbformat": 4,
 "nbformat_minor": 2
}
