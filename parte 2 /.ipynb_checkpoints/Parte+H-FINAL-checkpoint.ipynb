{
 "cells": [
  {
   "cell_type": "code",
   "execution_count": 1,
   "metadata": {
    "collapsed": false,
    "deletable": true,
    "editable": true
   },
   "outputs": [],
   "source": [
    "#%load_ext snakeviz\n",
    "%matplotlib inline"
   ]
  },
  {
   "cell_type": "code",
   "execution_count": 2,
   "metadata": {
    "collapsed": true,
    "deletable": true,
    "editable": true
   },
   "outputs": [],
   "source": [
    "#librerias utilitarias\n",
    "from random import randint\n",
    "import scipy.io as sio\n",
    "import numpy as np\n",
    "import matplotlib.pyplot as plt\n",
    "import random"
   ]
  },
  {
   "cell_type": "code",
   "execution_count": 3,
   "metadata": {
    "collapsed": false,
    "deletable": true,
    "editable": true
   },
   "outputs": [
    {
     "name": "stderr",
     "output_type": "stream",
     "text": [
      "Using TensorFlow backend.\n"
     ]
    }
   ],
   "source": [
    "#librerias Keras\n",
    "from keras.models import Sequential\n",
    "from keras.layers.core import Dense, Dropout, Activation, Flatten\n",
    "from keras.layers.convolutional import Convolution2D, MaxPooling2D, AveragePooling2D\n",
    "from keras.optimizers import SGD, Adadelta, Adagrad\n",
    "from keras.utils import np_utils\n",
    "from keras import backend as K"
   ]
  },
  {
   "cell_type": "code",
   "execution_count": 4,
   "metadata": {
    "collapsed": false,
    "deletable": true,
    "editable": true
   },
   "outputs": [],
   "source": [
    "from utils.multi_gpu import make_parallel"
   ]
  },
  {
   "cell_type": "code",
   "execution_count": 18,
   "metadata": {
    "collapsed": true,
    "deletable": true,
    "editable": true
   },
   "outputs": [],
   "source": [
    "import pandas as pd"
   ]
  },
  {
   "cell_type": "code",
   "execution_count": 5,
   "metadata": {
    "collapsed": false,
    "deletable": true,
    "editable": true
   },
   "outputs": [],
   "source": [
    "from utils.plot import plot_image"
   ]
  },
  {
   "cell_type": "code",
   "execution_count": 5,
   "metadata": {
    "collapsed": false,
    "deletable": true,
    "editable": true
   },
   "outputs": [
    {
     "name": "stdout",
     "output_type": "stream",
     "text": [
      "Fri Jun 16 01:56:50 2017       \n",
      "+-----------------------------------------------------------------------------+\n",
      "| NVIDIA-SMI 375.39                 Driver Version: 375.39                    |\n",
      "|-------------------------------+----------------------+----------------------+\n",
      "| GPU  Name        Persistence-M| Bus-Id        Disp.A | Volatile Uncorr. ECC |\n",
      "| Fan  Temp  Perf  Pwr:Usage/Cap|         Memory-Usage | GPU-Util  Compute M. |\n",
      "|===============================+======================+======================|\n",
      "|   0  Tesla K80           Off  | 0000:00:17.0     Off |                    0 |\n",
      "| N/A   62C    P0    62W / 149W |      0MiB / 11439MiB |      0%      Default |\n",
      "+-------------------------------+----------------------+----------------------+\n",
      "|   1  Tesla K80           Off  | 0000:00:18.0     Off |                    0 |\n",
      "| N/A   50C    P0    74W / 149W |      0MiB / 11439MiB |      0%      Default |\n",
      "+-------------------------------+----------------------+----------------------+\n",
      "|   2  Tesla K80           Off  | 0000:00:19.0     Off |                    0 |\n",
      "| N/A   64C    P0    62W / 149W |      0MiB / 11439MiB |      0%      Default |\n",
      "+-------------------------------+----------------------+----------------------+\n",
      "|   3  Tesla K80           Off  | 0000:00:1A.0     Off |                    0 |\n",
      "| N/A   51C    P0    73W / 149W |      0MiB / 11439MiB |      0%      Default |\n",
      "+-------------------------------+----------------------+----------------------+\n",
      "|   4  Tesla K80           Off  | 0000:00:1B.0     Off |                    0 |\n",
      "| N/A   58C    P0    58W / 149W |      0MiB / 11439MiB |      0%      Default |\n",
      "+-------------------------------+----------------------+----------------------+\n",
      "|   5  Tesla K80           Off  | 0000:00:1C.0     Off |                    0 |\n",
      "| N/A   44C    P0    71W / 149W |      0MiB / 11439MiB |      0%      Default |\n",
      "+-------------------------------+----------------------+----------------------+\n",
      "|   6  Tesla K80           Off  | 0000:00:1D.0     Off |                    0 |\n",
      "| N/A   58C    P0    61W / 149W |      0MiB / 11439MiB |      0%      Default |\n",
      "+-------------------------------+----------------------+----------------------+\n",
      "|   7  Tesla K80           Off  | 0000:00:1E.0     Off |                    0 |\n",
      "| N/A   48C    P0    71W / 149W |      0MiB / 11439MiB |     45%      Default |\n",
      "+-------------------------------+----------------------+----------------------+\n",
      "                                                                               \n",
      "+-----------------------------------------------------------------------------+\n",
      "| Processes:                                                       GPU Memory |\n",
      "|  GPU       PID  Type  Process name                               Usage      |\n",
      "|=============================================================================|\n",
      "|  No running processes found                                                 |\n",
      "+-----------------------------------------------------------------------------+\n"
     ]
    }
   ],
   "source": [
    "!nvidia-smi"
   ]
  },
  {
   "cell_type": "markdown",
   "metadata": {
    "deletable": true,
    "editable": true
   },
   "source": [
    "### Cargar Datos\n",
    "___"
   ]
  },
  {
   "cell_type": "code",
   "execution_count": 4,
   "metadata": {
    "collapsed": false,
    "deletable": true,
    "editable": true
   },
   "outputs": [
    {
     "name": "stdout",
     "output_type": "stream",
     "text": [
      "(73257, 3, 32, 32)\n",
      "(26032, 3, 32, 32)\n",
      "(73257, 10)\n",
      "(26032, 10)\n"
     ]
    }
   ],
   "source": [
    "train_data = sio.loadmat('data/train_32x32.mat')\n",
    "test_data = sio.loadmat('data/test_32x32.mat')\n",
    "X_train = train_data['X'].T\n",
    "y_train = train_data['y'] - 1\n",
    "X_test = test_data['X'].T\n",
    "y_test = test_data['y'] - 1\n",
    "X_train = X_train.astype('float32')\n",
    "X_test = X_test.astype('float32')\n",
    "n_classes = len(np.unique(y_train))\n",
    "#print (np.unique(y_train))\n",
    "X_train /= 255\n",
    "X_test /= 255\n",
    "Y_train = np_utils.to_categorical(y_train, n_classes)\n",
    "Y_test = np_utils.to_categorical(y_test, n_classes)\n",
    "print (X_train.shape)\n",
    "print (X_test.shape)\n",
    "print (Y_train.shape)\n",
    "print (Y_test.shape)"
   ]
  },
  {
   "cell_type": "markdown",
   "metadata": {
    "deletable": true,
    "editable": true
   },
   "source": [
    "### Preparar paralelismo\n",
    "___\n",
    "\n",
    "Para parelizar la ejecución del modelo a nivel de datos se debe tener complir la siguiente relación:\n",
    "\n",
    "$$ \\frac{\\frac{datos-de-entrenamiento}{batches}}{Nº GPU`s} = 0$$\n",
    "\n",
    "Por quitamos 1 ejemplo de entreamiento y otro de test. "
   ]
  },
  {
   "cell_type": "code",
   "execution_count": 5,
   "metadata": {
    "collapsed": false,
    "deletable": true,
    "editable": true
   },
   "outputs": [
    {
     "name": "stdout",
     "output_type": "stream",
     "text": [
      "(73256, 3, 32, 32)\n",
      "(26031, 3, 32, 32)\n",
      "(73256, 10)\n",
      "(26031, 10)\n"
     ]
    }
   ],
   "source": [
    "Y_test_parallel =np.delete(Y_test, 1, 0)\n",
    "X_test_parallel =np.delete(X_test, 1, 0)\n",
    "Y_train_parallel =np.delete(Y_train, 1, 0)\n",
    "X_train_parallel =np.delete(X_train, 1, 0)\n",
    "print (X_train_parallel.shape)\n",
    "print (X_test_parallel.shape)\n",
    "print (Y_train_parallel.shape)\n",
    "print (Y_test_parallel.shape)"
   ]
  },
  {
   "cell_type": "markdown",
   "metadata": {
    "collapsed": true,
    "deletable": true,
    "editable": true
   },
   "source": [
    "Objetivo\n",
    "-----\n",
    "\n",
    "**(H)**Elija una de las redes entrenadas en esta seccion y determine los pares de dıgitos (por ejemplo “1” con “7”) que la red tiende a confundir. Conjeture el motivo de tal confusion."
   ]
  },
  {
   "cell_type": "code",
   "execution_count": 6,
   "metadata": {
    "collapsed": false,
    "deletable": true,
    "editable": true
   },
   "outputs": [],
   "source": [
    "from keras.models import load_model\n",
    "model_completo = load_model('modeloCompleto.h5')"
   ]
  },
  {
   "cell_type": "code",
   "execution_count": 13,
   "metadata": {
    "collapsed": false,
    "deletable": true,
    "editable": true
   },
   "outputs": [],
   "source": [
    "from keras.models import load_model\n",
    "modelo = load_model('modeloBase.h5')"
   ]
  },
  {
   "cell_type": "code",
   "execution_count": 23,
   "metadata": {
    "collapsed": false,
    "deletable": true,
    "editable": true
   },
   "outputs": [],
   "source": [
    "clases=['cero','uno','dos','tres','cuatro','cinco','seis','siete','ocho','nueve']"
   ]
  },
  {
   "cell_type": "markdown",
   "metadata": {
    "collapsed": true,
    "deletable": true,
    "editable": true
   },
   "source": [
    "**Paso 1**: consiste en encontrar los índices donde están los ejemplos de cada categoría, para se implemento la función:"
   ]
  },
  {
   "cell_type": "code",
   "execution_count": 8,
   "metadata": {
    "collapsed": true,
    "deletable": true,
    "editable": true
   },
   "outputs": [],
   "source": [
    "def buscarLabelCategoria_(clase,Yt_):\n",
    "    indices=[]\n",
    "    for i in range(len(Yt_)):\n",
    "        if Yt_[i] == clase:\n",
    "            indices.append(i)\n",
    "    return np.array(indices)"
   ]
  },
  {
   "cell_type": "code",
   "execution_count": 9,
   "metadata": {
    "collapsed": true,
    "deletable": true,
    "editable": true
   },
   "outputs": [],
   "source": [
    "indices_cero = buscarLabelCategoria_(0, y_test)\n",
    "indices_uno = buscarLabelCategoria_(1, y_test)\n",
    "indices_dos = buscarLabelCategoria_(2, y_test)\n",
    "indices_tres = buscarLabelCategoria_(3, y_test)\n",
    "indices_cuatro = buscarLabelCategoria_(4, y_test)\n",
    "indices_cinco = buscarLabelCategoria_(5, y_test)\n",
    "indices_seis = buscarLabelCategoria_(6, y_test)\n",
    "indices_siete = buscarLabelCategoria_(7, y_test)\n",
    "indices_ocho = buscarLabelCategoria_(8, y_test)\n",
    "indices_nueve = buscarLabelCategoria_(9, y_test)"
   ]
  },
  {
   "cell_type": "markdown",
   "metadata": {
    "deletable": true,
    "editable": true
   },
   "source": [
    "**Paso 2**: Ya con el listado de índices de cada categoría, se selecciona un subset de datos para cada categoría, para esto se implemento la función:"
   ]
  },
  {
   "cell_type": "code",
   "execution_count": 10,
   "metadata": {
    "collapsed": true,
    "deletable": true,
    "editable": true
   },
   "outputs": [],
   "source": [
    "def seleccionarSubconjuntoClase_(listaIndices_,X_test_):\n",
    "    dataSetClase=[]\n",
    "    for i in listaIndices_:\n",
    "        dataSetClase.append(X_test_[i])\n",
    "    return np.array(dataSetClase)"
   ]
  },
  {
   "cell_type": "code",
   "execution_count": 15,
   "metadata": {
    "collapsed": true,
    "deletable": true,
    "editable": true
   },
   "outputs": [],
   "source": [
    "dataset_cero = seleccionarSubconjuntoClase_(indices_cero,X_test)\n",
    "dataset_uno = seleccionarSubconjuntoClase_(indices_uno,X_test)\n",
    "dataset_dos = seleccionarSubconjuntoClase_(indices_dos,X_test)\n",
    "dataset_tres = seleccionarSubconjuntoClase_(indices_tres,X_test)\n",
    "dataset_cuatro = seleccionarSubconjuntoClase_(indices_cuatro,X_test)\n",
    "dataset_cinco = seleccionarSubconjuntoClase_(indices_cinco,X_test)\n",
    "dataset_seis = seleccionarSubconjuntoClase_(indices_seis,X_test)\n",
    "dataset_siete = seleccionarSubconjuntoClase_(indices_siete,X_test)\n",
    "dataset_ocho = seleccionarSubconjuntoClase_(indices_ocho,X_test)\n",
    "dataset_nueve = seleccionarSubconjuntoClase_(indices_nueve,X_test)"
   ]
  },
  {
   "cell_type": "markdown",
   "metadata": {
    "deletable": true,
    "editable": true
   },
   "source": [
    "**Paso 3**: Ahora leemos el modelo guardo, el que mostro el mejor acurracy, y aplicado el predicción a cada dataset de cada catagoria:"
   ]
  },
  {
   "cell_type": "code",
   "execution_count": 16,
   "metadata": {
    "collapsed": false,
    "deletable": true,
    "editable": true
   },
   "outputs": [
    {
     "name": "stdout",
     "output_type": "stream",
     "text": [
      "1632/1744 [===========================>..] - ETA: 0s\b\b\b\b\b\b\b\b\b\b\b\b\b\b\b\b\b\b\b\b\b\b\b\b\b\b\b\b\b\b\b\b\b\b\b\b\b\b\b\b\b\b\b\b\b\b\b\b\b\b\b\b\b\b\b\b\b\b\b\b\b\b\b\b\b\b\b\b\b\b\b\b\b\b\b\b\b\b\b\b\b\b\b\b\b\b\b\b\b\b\b\b\b\b\b\b\b\b\b\b\b\b\b\b\b\b\b\b\b\b\b\b\b\b\b\b\b\b\b\b\b\b\b\b\b\b\b\b\b\b\b\b\b\b\b\b\b\b\b\b\b\b\b\b\b\b\b\b\b\b\b\b\b\b\b\b\b\b\b\b\b\b\b\b\b\b\b\b\b\b\b\b\b\b\b\b\b\b\b\b\b\b\b\b\b\b\b\b\b\b\b\b\b\b\b\b\b\b\b\b\b\b\b\b\b\b\b\b\b\b\b\b\b\b\b\b\b\b\b\b\b\b\b\b\b\b\b\b\b\b\b\b\b\b\b\b\b\b\b\b\b\b\b\b\b\b\b\b\b\b\b\b\b\b\b\b\b\b\b\b\b\b\b\b\b\b\b\b\b\b\b\b\b\b\b\b\b\b\b\b\b\b\b\b\b\b\b\b\b\b\b\b\b\b\b\b\b\b\b\b\b\b\b\b\b\b\b\b\b\b\b\b\b\b\b\b\b\b\b\b\b\b\b\b\b\b\b\b\b\b\b\b\b\b\b\b\b\b\b\b\b\b\b\b\b\b\b\b\b\b\b\b\b\b\b\b\b\b\b\b\b\b\b\b\b\b\b\b\b\b\b\b\b\b\b\b\b\b\b\b\b\b\b\b\b\b\b\b\b\b\b\b\b\b\b\b\b\b\b\b\b\b\b\b\b\b\b\b\b\b\b\b\b\b\b\b\b\b\b\b\b\b\b\b\b\b\b\b\b\b\b\b\b\b\b\b\b\b\b\b\b\b\b\b\b\b\b\b\b\b\b\b\b\b\b\b\b\b\b\b\b\b\b\b\b\b\b\b\b\b\b\b\b\b\b\b\b\b\b\b\b\b\b\b\b\b\b\b\b\b\b\b\b\b\b\b\b\b\b\b\b\b\b\b\b\b\b\b\b\b\b\b\b\b\b\b\b\b\b\b\b\b\b\b\b\b\b\b\b\b\b\b\b\b\b\b\b\b\b\b\b\b\b\b\b\b\b\b\b\b\b\b\b\b\b\b\b\b\b\b\b\b\b\b\b\b\b\b\b\b\b\b\b\b\b\b\b\b\b\b\b\b\b\b\b\b\b\b\b\b\b\b\b\b\b\b\b\b\b\b\b\b\b\b\b\b\b\b\b\b\b\b\b\b\b\b\b\b\b\b\b\b\b\b\b\b\b\b\b\b\b\b\b\b\b\b\b\b\b\b\b\b\b\b\b\b\b\b\b\b\b\b\b\b\b\b\b\b\b\b\b\b\b\b\b\b\b\b\b\b\b\b\b\b\b\b\b\b\b\b\b\b\b\b\b\b\b\b\b\b\b\b\b\b\b\b\b\b\b\b\b\b\b\b\b\b\b\b\b\b\b\b\b\b\b\b\b\b\b\b\b\b\b\b\b\b\b\b\b\b\b\b\b\b\b\b\b\b\b\b\b\b\b\b\b\b\b\b\b\b\b\b\b\b\b\b\b\b\b\b\b\b\b\b\b\b\b\b\b\b\b\b\b\b\b\b\b\b\b\b\b\b\b\b\b\b\b\b\b\b\b\b\b\b\b\b\b\b\b\b\b\b\b\b\b\b\b\b\b\b\b\b\b\b\b\b\b\b\b\b\b\b\b\b\b\b\b\b\b\b\b\b\b\b\b\b\b\b\b\b\b\b\b\b\b\b\b\b\b\b\b\b\b\b\b\b\b\b\b\b\b\b\b\b\b\b\b\b\b\b\b\b\b\b\b\b\b\b\b\b\b\b\b\b\b\b\b\b\b\b\b\b\b\b\b\b\b\b\b\b\b\b\b\b\b\b\b\b\b\b\b\b\b\b\b\b\b\b\b\b\b\b\b\b\b\b\b\b\b\b\b\b\b\b\b\b\b\b\b\b\b\b\b\b\b\b\b\b\b\b\b\b\b\b\b\b\b\b\b\b\b\b\b\b\b\b\b\b\b\b\b\b\b\b\b\b\b\b\b\b\b\b\b\b\b\b\b\b\b\b\b\b\b\b\b\b\b\b\b\b\b\b\b\b\b\b\b\b\b\b\b\b\b\b\b\b\b\b\b\b\b\b\b\b\b\b\b\b\b\b\b\b\b\b\b\b\b\b\b\b\b\b\b\b\b\b\b\b\b\b\b\b\b\b\b\b\b\b\b\b\b\b\b\b\b\b\b\b\b\b\b\b\b\b\b\b\b\b\b\b\b\b\b\b\b\b\b\b\b\b\b\b\b\b\b\b\b\b\b\b\b\b\b\b\b\b\b\b\b\b\b\b\b\b\b\b\b\b\b\b\b\b\b\b\b\b\b\b\b\b\b\b\b\b\b\b\b\b\b\b\b\b\b\b\b\b\b\b\b\b\b\b\b\b\b\b\b\b\b\b\b\b\b\b\b\b\b\b\b\b\b\b\b\b\b\b\b\b\b\b\b\b\b\b\b\b\b\b\b\b\b\b\b\b\b\b\b\b\b\b\b\b\b\b\b\b\b\b\b\b\b\b\b\b\b\b\b\b\b\b\b\b\b\b\b\b\b\b\b\b\b\b\b\b\b\b\b\b\b\b\b\b\b\b\b\b\b\b\b\b\b\b\b\b\b\b\b\b\b\b\b\b\b\b\b\b\b\b\b\b\b\b\b\b\b\b\b\b\b\b\b\b\b\b\b\b\b\b\b\b\b\b\b\b\b\b\b\b\b\b\b\b\b\b\b\b\b\b\b\b\b\b\b\b\b\b\b\b\b\b\b\b\b\b\b\b\b\b\b\b\b\b\b\b\b\b\b\b\b\b\b\b\b\b\b\b\b\b\b\b\b\b\b\b\b\b\b\b\b\b\b\b\b\b\b\b\b\b\b\b\b\b\b\b\b\b\b\b\b\b\b\b\b\b\b\b\b\b\b\b\b\b\b\b\b\b\b\b\b\b\b\b\b\b\b\b\b\b\b\b\b\b\b\b\b\b\b\b\b\b\b\b\b\b\b\b\b\b\b\b\b\b\b\b\b\b\b\b\b\b\b\b\b\b\b\b\b\b\b\b\b\b\b\b\b\b\b\b\b\b\b\b\b\b\b\b\b\b\b\b\b\b\b\b\b\b\b\b\b\b\b\b\b\b\b\b\b\b\b\b\b\b\b\b\b\b\b\b\b\b\b\b\b\b\b\b\b\b\b\b\b\b\b\b\b\b\b\b\b\b\b\b\b\b\b\b\b\b\b\b\b\b\b\b\b\b\b\b\b\b\b\b\b\b\b\b\b\b\b\b\b\b\b\b\b\b\b\b\b\b\b\b\b\b\b\b\b\b\b\b\b\b\b\b\b\b\b\b\b\b\b\b\b\b\b\b\b\b\b\b\b\b\b\b\b\b\b\b\b\b\b\b\b\b\b\b\b\b\b\b\b\b\b\b\b\b\b\b\b\b\b\b\b\b\b\b\b\b\b\b\b\b\b\b\b\b\b\b\b\b\b\b\b\b\b\b\b\b\b\b\b\b\b\b\b\b\b\b\b\b\b\b\b\b\b\b\b\b\b\b\b\b\b\b\b\b\b\b\b\b\b\b\b\b\b\b\b\b\b\b\b\b\b\b\b\b\b\b\b\b\b\b\b\b\b\b\b\b\b\b\b\b\b\b\b\b\b\b\b\b\b\b\b\b\b\b\b\b\b\b\b\b\b\b\b\b\b\b\b\b\b\b\b\b\b\b\b\b\b\b\b\b\b\b\b\b\b\b\b\b\b\b\b\b\b\b\b\b\b\b\b\b\b\b\b\b\b\b\b\b\b\b\b\b\b\b\b\b\b\b\b\b\b\b\b\b\b\b\b\b\b\b\b\b\b\b\b\b\b\b\b\b\b\b\b\b\b\b\b\b\b\b\b\b\b\b\b\b\b\b\b\b\b\b\b\b\b\b\b\b\b\b\b\b\b\b\b\b\b\b\b\b\b\b\b\b\b\b\b\b\b\b\b\b\b\b\b\b\b\b\b\b\b\b\b\b\b\b\b\b\b\b\b\b\b\b\b\b\b\b\b\b\b\b\b\b\b\b\b\b\b\b\b\b\b\b\b\b\b\b\b\b\b\b\b\b\b\b\b\b\b\b\b\b\b\b\b\b\b\b\b\b\b\b\b\b\b\b\b\b\b\b\b\b\b\b\b\b\b\b\b\b\b\b\b\b\b\b\b\b\b\b\b\b\b\b\b\b\b\b\b\b\b\b\b\b\b\b\b\b\b\b\b\b\b\b\b\b\b\b\b\b\b\b\b\b\b\b\b\b\b\b\b\b\b\b\b\b\b\b\b\b\b\b\b\b\b\b\b\b\b\b\b\b\b\b\b\b\b\b\b\b\b\b\b\b\b\b\b\b\b\b\b\b\b\b\b\b\b\b\b\b\b\b\b\b\b\b\b\b\b\b\b\b\b\b\b\b\b\b\b\b\b\b\b\b\b\b\b\b\b\b\b\b\b\b\b\b\b\b\b\b\b\b\b\b\b\b\b\b\b\b\b\b\b\b\b\b\b\b\b\b\b\b\b\b\b\b\b\b\b\b\b\b\b\b\b\b\b\b\b\b\b\b\b\b\b\b\b\b\b\b\b\b\b\b\b\b\b\b\b\b\b\b\b\b\b\b\b\b\b\b\b\b\b\b\b\b\b\b\b\b\b\b\b\b\b\b\b\b\b\b\b\b\b\b\b\b\b\b\b\b\b\b\b\b\b\b\b\b\b\b\b\b\b\b\b\b\b\b\b\b\b\b\b\b\b\b\b\b\b\b\b\b\b\b\b\b\b\b\b\b\b\b\b\bCPU times: user 4.43 s, sys: 537 ms, total: 4.96 s\n",
      "Wall time: 9.29 s\n"
     ]
    }
   ],
   "source": [
    "%%time\n",
    "prediccion_cero= modelo.predict(dataset_cero, verbose=1)\n",
    "prediccion_uno= modelo.predict(dataset_uno, verbose=0)\n",
    "prediccion_dos= modelo.predict(dataset_dos, verbose=0)\n",
    "prediccion_tres= modelo.predict(dataset_tres, verbose=0)\n",
    "prediccion_cuatro= modelo.predict(dataset_cuatro, verbose=0)\n",
    "prediccion_cinco= modelo.predict(dataset_cinco, verbose=0)\n",
    "prediccion_seis= modelo.predict(dataset_seis, verbose=0)\n",
    "prediccion_siete= modelo.predict(dataset_siete, verbose=0)\n",
    "prediccion_ocho= modelo.predict(dataset_ocho, verbose=0)\n",
    "prediccion_nueve= modelo.predict(dataset_nueve, verbose=1)"
   ]
  },
  {
   "cell_type": "markdown",
   "metadata": {
    "collapsed": true,
    "deletable": true,
    "editable": true
   },
   "source": [
    "**Paso 4**: Desde en este paso en adelante, usaremos la API de Python Pandas que nos permitirá ordenar el resultado de obtenido desde la predicción de Keras. Para esto a partir de la salida de Keras(n-array) pasamos a un pandas dataframe. Y en la misma línea calculamos las mayores frecuencias por cada clase:\n"
   ]
  },
  {
   "cell_type": "code",
   "execution_count": 19,
   "metadata": {
    "collapsed": true,
    "deletable": true,
    "editable": true
   },
   "outputs": [],
   "source": [
    "df_cero = pd.DataFrame(prediccion_cero).max()\n",
    "df_uno = pd.DataFrame(prediccion_uno).max()\n",
    "df_dos = pd.DataFrame(prediccion_dos).max()\n",
    "df_tres = pd.DataFrame(prediccion_tres).max()\n",
    "df_cuatro = pd.DataFrame(prediccion_cuatro).max()\n",
    "df_cinco = pd.DataFrame(prediccion_cinco).max()\n",
    "df_seis = pd.DataFrame(prediccion_seis).max()\n",
    "df_siete = pd.DataFrame(prediccion_siete).max()\n",
    "df_ocho = pd.DataFrame(prediccion_ocho).max()\n",
    "df_nueve = pd.DataFrame(prediccion_nueve).max()"
   ]
  },
  {
   "cell_type": "markdown",
   "metadata": {
    "deletable": true,
    "editable": true
   },
   "source": [
    "**Paso 5**: Finalmente aplicamos un sort descendente a la serie de pandas que fue la salida del punto anterior, para en el paso siguiente presentar los valores que tienden a confundirse por categoria:"
   ]
  },
  {
   "cell_type": "code",
   "execution_count": 20,
   "metadata": {
    "collapsed": false,
    "deletable": true,
    "editable": true
   },
   "outputs": [],
   "source": [
    "df_cero.sort_values(inplace=True,ascending=False)\n",
    "df_uno.sort_values(inplace=True,ascending=False)\n",
    "df_dos.sort_values(inplace=True,ascending=False)\n",
    "df_tres.sort_values(inplace=True,ascending=False)\n",
    "df_cuatro.sort_values(inplace=True,ascending=False)\n",
    "df_cinco.sort_values(inplace=True,ascending=False)\n",
    "df_seis.sort_values(inplace=True,ascending=False)\n",
    "df_siete.sort_values(inplace=True,ascending=False)\n",
    "df_ocho.sort_values(inplace=True,ascending=False)\n",
    "df_nueve.sort_values(inplace=True,ascending=False)"
   ]
  },
  {
   "cell_type": "code",
   "execution_count": 21,
   "metadata": {
    "collapsed": true,
    "deletable": true,
    "editable": true
   },
   "outputs": [],
   "source": [
    "clases_cero = df_cero.index\n",
    "clases_uno = df_uno.index\n",
    "clases_dos = df_dos.index\n",
    "clases_tres = df_tres.index\n",
    "clases_cuatro = df_cuatro.index\n",
    "clases_cinco = df_cinco.index\n",
    "clases_seis = df_seis.index\n",
    "clases_siete = df_siete.index\n",
    "clases_ocho = df_ocho.index\n",
    "clases_nueve = df_nueve.index"
   ]
  },
  {
   "cell_type": "code",
   "execution_count": 24,
   "metadata": {
    "collapsed": false,
    "deletable": true,
    "editable": true
   },
   "outputs": [
    {
     "name": "stdout",
     "output_type": "stream",
     "text": [
      "Para Cero, la predicciones suele confundir:  cero  y  cuatro\n",
      "Para Uno, la predicciones suele confundir:  uno  y  cero\n",
      "Para Dos, la predicciones suele confundir:  dos  y  nueve\n",
      "Para Tres, la predicciones suele confundir:  tres  y  cero\n",
      "Para Cuatro, la predicciones suele confundir:  cuatro  y  nueve\n",
      "Para Cinco, la predicciones suele confundir:  cinco  y  nueve\n",
      "Para Seis, la predicciones suele confundir:  seis  y  cero\n",
      "Para Siete, la predicciones suele confundir:  cero  y  siete\n",
      "Para Ocho, la predicciones suele confundir:  ocho  y  uno\n",
      "Para Nueve, la predicciones suele confundir:  nueve  y  ocho\n"
     ]
    }
   ],
   "source": [
    "print(\"Para Cero, la predicciones suele confundir: \",clases[clases_cero[0]],\" y \" ,clases[clases_cero[1]])\n",
    "print(\"Para Uno, la predicciones suele confundir: \",clases[clases_uno[0]],\" y \" ,clases[clases_uno[1]])\n",
    "print(\"Para Dos, la predicciones suele confundir: \",clases[clases_dos[0]],\" y \" ,clases[clases_dos[1]])\n",
    "print(\"Para Tres, la predicciones suele confundir: \",clases[clases_tres[0]],\" y \" ,clases[clases_tres[1]])\n",
    "print(\"Para Cuatro, la predicciones suele confundir: \",clases[clases_cuatro[0]],\" y \" ,clases[clases_cuatro[1]])\n",
    "print(\"Para Cinco, la predicciones suele confundir: \",clases[clases_cinco[0]],\" y \" ,clases[clases_cinco[1]])\n",
    "print(\"Para Seis, la predicciones suele confundir: \",clases[clases_seis[0]],\" y \" ,clases[clases_seis[1]])\n",
    "print(\"Para Siete, la predicciones suele confundir: \",clases[clases_siete[0]],\" y \" ,clases[clases_siete[1]])\n",
    "print(\"Para Ocho, la predicciones suele confundir: \",clases[clases_ocho[0]],\" y \" ,clases[clases_ocho[1]])\n",
    "print(\"Para Nueve, la predicciones suele confundir: \",clases[clases_nueve[0]],\" y \" ,clases[clases_nueve[1]])"
   ]
  },
  {
   "cell_type": "markdown",
   "metadata": {
    "collapsed": true,
    "deletable": true,
    "editable": true
   },
   "source": [
    "Como podemos ver en la mayoría de las categorías, salvo para el numero siete los resultados de la red son coherentes con las categorías. Esto bajo el escenario que el modelo había alcanzado un accuracy cercano al 94% de accuracy. \n",
    "\n",
    "**Nota:**Se debe recordar lo indicado al principio de las actividades, que las clases en dataset de entrenamiento están sobre desbalanceadas para el 0 y 1, esto no es menor porque como podemos ver en muchos de los casos la red tiene como segunda opción a estos dígitos."
   ]
  },
  {
   "cell_type": "code",
   "execution_count": null,
   "metadata": {
    "collapsed": true
   },
   "outputs": [],
   "source": []
  }
 ],
 "metadata": {
  "anaconda-cloud": {},
  "kernelspec": {
   "display_name": "Python [default]",
   "language": "python",
   "name": "python2"
  },
  "language_info": {
   "codemirror_mode": {
    "name": "ipython",
    "version": 2
   },
   "file_extension": ".py",
   "mimetype": "text/x-python",
   "name": "python",
   "nbconvert_exporter": "python",
   "pygments_lexer": "ipython2",
   "version": "2.7.12"
  }
 },
 "nbformat": 4,
 "nbformat_minor": 2
}
