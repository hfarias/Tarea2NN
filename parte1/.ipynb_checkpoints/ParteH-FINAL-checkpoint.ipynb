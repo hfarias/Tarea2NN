{
 "cells": [
  {
   "cell_type": "code",
   "execution_count": 133,
   "metadata": {
    "collapsed": true
   },
   "outputs": [],
   "source": [
    "%matplotlib inline"
   ]
  },
  {
   "cell_type": "code",
   "execution_count": 1,
   "metadata": {
    "collapsed": false,
    "deletable": true,
    "editable": true
   },
   "outputs": [
    {
     "name": "stderr",
     "output_type": "stream",
     "text": [
      "Using TensorFlow backend.\n",
      "/Users/hfarias/anaconda2/lib/python2.7/site-packages/matplotlib/font_manager.py:273: UserWarning: Matplotlib is building the font cache using fc-list. This may take a moment.\n",
      "  warnings.warn('Matplotlib is building the font cache using fc-list. This may take a moment.')\n"
     ]
    }
   ],
   "source": [
    "#librerias Keras\n",
    "from keras.models import Sequential\n",
    "from keras.layers.core import Dense, Dropout, Activation, Flatten\n",
    "from keras.layers.convolutional import Convolution2D, MaxPooling2D, AveragePooling2D\n",
    "from keras.optimizers import SGD, Adadelta, Adagrad, rmsprop\n",
    "from keras.layers import LSTM, GRU\n",
    "import matplotlib.pyplot as plt"
   ]
  },
  {
   "cell_type": "code",
   "execution_count": 2,
   "metadata": {
    "collapsed": false,
    "deletable": true,
    "editable": true
   },
   "outputs": [],
   "source": [
    "#from utils.multi_gpu import make_parallel\n",
    "from dataset.dataset import leer\n",
    "from keras.utils.np_utils import to_categorical"
   ]
  },
  {
   "cell_type": "code",
   "execution_count": 126,
   "metadata": {
    "collapsed": true
   },
   "outputs": [],
   "source": [
    "import pandas as pd"
   ]
  },
  {
   "cell_type": "code",
   "execution_count": 10,
   "metadata": {
    "collapsed": true,
    "deletable": true,
    "editable": true
   },
   "outputs": [],
   "source": [
    "from keras.models import load_model\n",
    "import numpy as np"
   ]
  },
  {
   "cell_type": "markdown",
   "metadata": {
    "deletable": true,
    "editable": true
   },
   "source": [
    "### Cargar Modelo\n",
    "___"
   ]
  },
  {
   "cell_type": "code",
   "execution_count": 3,
   "metadata": {
    "collapsed": false,
    "deletable": true,
    "editable": true
   },
   "outputs": [
    {
     "name": "stdout",
     "output_type": "stream",
     "text": [
      "CPU times: user 1.5 s, sys: 843 ms, total: 2.34 s\n",
      "Wall time: 2.49 s\n"
     ]
    }
   ],
   "source": [
    "%%time\n",
    "URL='data/'\n",
    "Xtr,Ytr,Xt,Yt,Xv,Yv = leer(URL)\n",
    "#Datos de entrenamiento\n",
    "X_train = Xtr.reshape((Xtr.shape[0],32,32,3))\n",
    "X_train = X_train.transpose([0, 3, 2, 1]) \n",
    "Y_train = to_categorical(Ytr, 10)\n",
    "#Datos de Test\n",
    "X_test  = Xt.reshape((Xt.shape[0],32,32,3))\n",
    "X_test  = X_test.transpose([0, 3, 2, 1])\n",
    "Y_test  = to_categorical(Yt, 10)\n",
    "#Datos de Validación\n",
    "X_val   = Xv.reshape((Xv.shape[0],32,32,3))\n",
    "X_val   = X_val.transpose([0, 3, 2, 1])\n",
    "Y_val   = to_categorical(Yv, 10)\n",
    "\n",
    "X_train = X_train.astype('float32')\n",
    "X_test  = X_test.astype('float32')\n",
    "X_val   = X_val.astype('float32')# Dataset de valdiacion de tamaño 4000"
   ]
  },
  {
   "cell_type": "code",
   "execution_count": 4,
   "metadata": {
    "collapsed": false,
    "deletable": true,
    "editable": true
   },
   "outputs": [
    {
     "name": "stdout",
     "output_type": "stream",
     "text": [
      "(50000, 3, 32, 32)\n",
      "(10000, 3, 32, 32)\n",
      "(50000, 10)\n",
      "(10000, 10)\n"
     ]
    }
   ],
   "source": [
    "print (X_train.shape)\n",
    "print (X_test.shape)\n",
    "print (Y_train.shape)\n",
    "print (Y_test.shape)"
   ]
  },
  {
   "cell_type": "code",
   "execution_count": 5,
   "metadata": {
    "collapsed": false,
    "deletable": true,
    "editable": true
   },
   "outputs": [],
   "source": [
    "_size, n_channels, n_rows, n_cols = X_train.shape\n",
    "n_classes = 10"
   ]
  },
  {
   "cell_type": "markdown",
   "metadata": {
    "deletable": true,
    "editable": true
   },
   "source": [
    "Objetivo\n",
    "-----\n",
    "\n",
    "**(H)** Elija una de las redes entrenadas en esta seccion y determine los pares de objetos (por ejemplo “perros” con “gatos”) que la red tiende a confundir. Conjeture el motivo de tal confusion."
   ]
  },
  {
   "cell_type": "code",
   "execution_count": 202,
   "metadata": {
    "collapsed": false,
    "deletable": true,
    "editable": true
   },
   "outputs": [],
   "source": [
    "modelo= load_model('modelo_parte1_h_categorical_crossentropy.h5')"
   ]
  },
  {
   "cell_type": "code",
   "execution_count": 203,
   "metadata": {
    "collapsed": true
   },
   "outputs": [],
   "source": [
    "clases = ['avion','auto','pajaro','gato','ciervo','perro','rana','caballo','barco','camion']"
   ]
  },
  {
   "cell_type": "markdown",
   "metadata": {},
   "source": [
    "**Paso 1**: consiste en encontrar los índices donde están los ejemplos de cada categoría, para se implemento la función:\n"
   ]
  },
  {
   "cell_type": "code",
   "execution_count": 205,
   "metadata": {
    "collapsed": false,
    "deletable": true,
    "editable": true
   },
   "outputs": [],
   "source": [
    "def buscarLabelCategoria_(clase,Yt_):\n",
    "    indices=[]\n",
    "    for i in range(len(Yt_)):\n",
    "        if Yt_[i] == clase:\n",
    "            indices.append(i)\n",
    "    return np.array(indices)"
   ]
  },
  {
   "cell_type": "code",
   "execution_count": 208,
   "metadata": {
    "collapsed": false,
    "deletable": true,
    "editable": true
   },
   "outputs": [],
   "source": [
    "indices_avion = buscarLabelCategoria_(0, Yt)\n",
    "indices_auto = buscarLabelCategoria_(1, Yt)\n",
    "indices_pajaro = buscarLabelCategoria_(2, Yt)\n",
    "indices_gato = buscarLabelCategoria_(3, Yt)\n",
    "indices_ciervo = buscarLabelCategoria_(4, Yt)\n",
    "indices_perro = buscarLabelCategoria_(5, Yt)\n",
    "indices_rana = buscarLabelCategoria_(6, Yt)\n",
    "indices_caballo = buscarLabelCategoria_(7, Yt)\n",
    "indices_barco = buscarLabelCategoria_(8, Yt)\n",
    "indices_camion = buscarLabelCategoria_(9, Yt)"
   ]
  },
  {
   "cell_type": "markdown",
   "metadata": {
    "deletable": true,
    "editable": true
   },
   "source": [
    "**Paso 2**: Ya con el listado de índices de cada categoría, se selecciona un subset de datos para cada categoría, para esto se implemento la función:"
   ]
  },
  {
   "cell_type": "code",
   "execution_count": 209,
   "metadata": {
    "collapsed": false,
    "deletable": true,
    "editable": true
   },
   "outputs": [],
   "source": [
    "def seleccionarSubconjuntoClase_(listaIndices_,X_test_):\n",
    "    dataSetClase=[]\n",
    "    for i in listaIndices_:\n",
    "        dataSetClase.append(X_test_[i])\n",
    "    return np.array(dataSetClase)"
   ]
  },
  {
   "cell_type": "code",
   "execution_count": 210,
   "metadata": {
    "collapsed": false,
    "deletable": true,
    "editable": true
   },
   "outputs": [],
   "source": [
    "dataset_avion = seleccionarSubconjuntoClase_(indices_avion,X_test)\n",
    "dataset_auto = seleccionarSubconjuntoClase_(indices_auto,X_test)\n",
    "dataset_pajaro = seleccionarSubconjuntoClase_(indices_pajaro,X_test)\n",
    "dataset_gato = seleccionarSubconjuntoClase_(indices_gato,X_test)\n",
    "dataset_ciervo = seleccionarSubconjuntoClase_(indices_ciervo,X_test)\n",
    "dataset_perro = seleccionarSubconjuntoClase_(indices_perro,X_test)\n",
    "dataset_rana = seleccionarSubconjuntoClase_(indices_rana,X_test)\n",
    "dataset_caballo = seleccionarSubconjuntoClase_(indices_caballo,X_test)\n",
    "dataset_barco = seleccionarSubconjuntoClase_(indices_barco,X_test)\n",
    "dataset_camion = seleccionarSubconjuntoClase_(indices_camion,X_test)"
   ]
  },
  {
   "cell_type": "markdown",
   "metadata": {
    "deletable": true,
    "editable": true
   },
   "source": [
    "**Paso 3**: Ahora leemos el modelo guardo, el que mostro el mejor acurracy, y aplicado el predicción a cada dataset de cada catagoria:"
   ]
  },
  {
   "cell_type": "code",
   "execution_count": 217,
   "metadata": {
    "collapsed": false,
    "deletable": true,
    "editable": true
   },
   "outputs": [
    {
     "name": "stdout",
     "output_type": "stream",
     "text": [
      " 992/1000 [============================>.] - ETA: 0s\b\b\b\b\b\b\b\b\b\b\b\b\b\b\b\b\b\b\b\b\b\b\b\b\b\b\b\b\b\b\b\b\b\b\b\b\b\b\b\b\b\b\b\b\b\b\b\b\b\b\b\b\b\b\b\b\b\b\b\b\b\b\b\b\b\b\b\b\b\b\b\b\b\b\b\b\b\b\b\b\b\b\b\b\b\b\b\b\b\b\b\b\b\b\b\b\b\b\b\b\b\b\b\b\b\b\b\b\b\b\b\b\b\b\b\b\b\b\b\b\b\b\b\b\b\b\b\b\b\b\b\b\b\b\b\b\b\b\b\b\b\b\b\b\b\b\b\b\b\b\b\b\b\b\b\b\b\b\b\b\b\b\b\b\b\b\b\b\b\b\b\b\b\b\b\b\b\b\b\b\b\b\b\b\b\b\b\b\b\b\b\b\b\b\b\b\b\b\b\b\b\b\b\b\b\b\b\b\b\b\b\b\b\b\b\b\b\b\b\b\b\b\b\b\b\b\b\b\b\b\b\b\b\b\b\b\b\b\b\b\b\b\b\b\b\b\b\b\b\b\b\b\b\b\b\b\b\b\b\b\b\b\b\b\b\b\b\b\b\b\b\b\b\b\b\b\b\b\b\b\b\b\b\b\b\b\b\b\b\b\b\b\b\b\b\b\b\b\b\b\b\b\b\b\b\b\b\b\b\b\b\b\b\b\b\b\b\b\b\b\b\b\b\b\b\b\b\b\b\b\b\b\b\b\b\b\b\b\b\b\b\b\b\b\b\b\b\b\b\b\b\b\b\b\b\b\b\b\b\b\b\b\b\b\b\b\b\b\b\b\b\b\b\b\b\b\b\b\b\b\b\b\b\b\b\b\b\b\b\b\b\b\b\b\b\b\b\b\b\b\b\b\b\b\b\b\b\b\b\b\b\b\b\b\b\b\b\b\b\b\b\b\b\b\b\b\b\b\b\b\b\b\b\b\b\b\b\b\b\b\b\b\b\b\b\b\b\b\b\b\b\b\b\b\b\b\b\b\b\b\b\b\b\b\b\b\b\b\b\b\b\b\b\b\b\b\b\b\b\b\b\b\b\b\b\b\b\b\b\b\b\b\b\b\b\b\b\b\b\b\b\b\b\b\b\b\b\b\b\b\b\b\b\b\b\b\b\b\b\b\b\b\b\b\b\b\b\b\b\b\b\b\b\b\b\b\b\b\b\b\b\b\b\b\b\b\b\b\b\b\b\b\b\b\b\b\b\b\b\b\b\b\b\b\b\b\b\b\b\b\b\b\b\b\b\b\b\b\b\b\b\b\b\b\b\b\b\b\b\b\b\b\b\b\b\b\b\b\b\b\b\b\b\b\b\b\b\b\b\b\b\b\b\b\b\b\b\b\b\b\b\b\b\b\b\b\b\b\b\b\b\b\b\b\b\b\b\b\b\b\b\b\b\b\b\b\b\b\b\b\b\b\b\b\b\b\b\b\b\b\b\b\b\b\b\b\b\b\b\b\b\b\b\b\b\b\b\b\b\b\b\b\b\b\b\b\b\b\b\b\b\b\b\b\b\b\b\b\b\b\b\b\b\b\b\b\b\b\b\b\b\b\b\b\b\b\b\b\b\b\b\b\b\b\b\b\b\b\b\b\b\b\b\b\b\b\b\b\b\b\b\b\b\b\b\b\b\b\b\b\b\b\b\b\b\b\b\b\b\b\b\b\b\b\b\b\b\b\b\b\b\b\b\b\b\b\b\b\b\b\b\b\b\b\b\b\b\b\b\b\b\b\b\b\b\b\b\b\b\b\b\b\b\b\b\b\b\b\b\b\b\b\b\b\b\b\b\b\b\b\b\b\b\b\b\b\b\b\b\b\b\b\b\b\b\b\b\b\b\b\b\b\b\b\b\b\b\b\b\b\b\b\b\b\b\b\b\b\b\b\b\b\b\b\b\b\b\b\b\b\b\b\b\b\b\b\b\b\b\b\b\b\b\b\b\b\b\b\b\b\b\b\b\b\b\b\b\b\b\b\b\b\b\b\b\b\b\b\b\b\b\b\b\b\b\b\b\b\b\b\b\b\b\b\b\b\b\b\b\b\b\b\b\b\b\b\b\b\b\b\b\b\b\b\b\b\b\b\b\b\b\b\b\b\b\b\b\b\b\b\b\b\b\b\b\b\b\b\b\b\b\b\b\b\b\b\b\b\b\b\b\b\b\b\b\b\b\b\b\b\b\b\b\b\b\b\b\b\b\b\b\b\b\b\b\b\b\b\b\b\b\b\b\b\b\b\b\b\b\b\b\b\b\b\b\b\b\b\b\b\b\b\b\b\b\b\b\b\b\b\b\b\b\b\b\b\b\b\b\b\b\b\b\b\b\b\b\b\b\b\b\b\b\b\b\b\b\b\b\b\b\b\b\b\b\b\b\b\b\b\b\b\b\b\b\b\b\b\b\b\b\b\b\b\b\b\b\b\b\b\b\b\b\b\b\b\b\b\b\b\b\b\b\b\b\b\b\b\b\b\b\b\b\b\b\b\b\b\b\b\b\b\b\b\b\b\b\b\b\b\b\b\b\b\b\b\b\b\b\b\b\b\b\b\b\b\b\b\b\b\b\b\b\b\b\b\b\b\b\b\b\b\b\b\b\b\b\b\b\b\b\b\b\b\b\b\b\b\b\b\b\b\b\b\b\b\b\b\b\b\b\b\b\b\b\b\b\b\b\b\b\b\b\b\b\b\b\b\b\b\b\b\b\b\b\b\b\b\b\b\b\b\b\b\b\b\b\b\b\b\b\b\b\b\b\b\b\b\b\b\b\b\b\b\b\b\b\b\b\b\b\b\b\b\b\b\b\b\b\b\b\b\b\b\b\b\b\b\b\b\b\b\b\b\b\b\b\b\b\b\b\b\b\b\b\b\b\b\b\b\b\b\b\b\b\b\b\b\b\b\b\b\b\b\b\b\b\b\b\b\b\b\b\b\b\b\b\b\b\b\b\b\b\b\b\b\b\b\b\b\b\b\b\b\b\b\b\b\b\b\b\b\b\b\b\b\b\b\b\b\b\b\b\b\b\b\b\b\b\b\b\b\b\b\b\b\b\b\b\b\b\b\b\b\b\b\b\b\b\b\b\b\b\b\b\b\b\b\b\b\b\b\b\b\b\b\b\b\b\b\b\b\b\b\b\b\b\b\b\b\b\b\b\b\b\b\b\b\b\b\b\b\b\b\b\b\b\b\b\b\b\b\b\b\b\b\b\b\b\b\b\b\b\b\b\b\b\b\b\b\b\b\b\b\b\b\b\b\b\b\b\b\b\b\b\b\b\b\b\b\b\b\b\b\b\b\b\b\b\b\b\b\b\b\b\b\b\b\b\b\b\b\b\b\b\b\b\b\b\b\b\b\b\b\b\b\b\b\b\b\b\b\b\b\b\b\b\b\b\b\b\b\b\b\b\b\b\b\b\b\b\b\b\b\b\b\b\b\b\b\b\b\b\b\b\b\b\b\b\b\b\b\b\b\b\b\b\b\b\b\b\b\b\b\b\b\b\b\b\b\b\b\b\b\b\b\b\b\b\b\b\b\b\b\b\b\b\b\b\b\b\b\b\b\b\b\b\b\b\b\b\b\b\b\b\b\b\b\b\b\b\b\b\b\b\b\b\b\b\b\b\b\b\b\b\b\b\b\b\b\b\b\b\b\b\b\b\b\b\b\b\b\b\b\b\b\b\b\b\b\b\b\b\b\b\b\b\b\b\b\b\b\b\b\b\b\b\b\b\b\b\b\b\b\b\b\b\b\b\b\b\b\b\b\b\b\b\b\b\b\b\b\b\b\b\b\b\b\b\b\b\b\b\b\b\b\b\b\b\b\b\b\b\b\b\b\b\b\b\b\b\b\b\b\b\b\b\b\b\b\b\b\b\b\b\b\b\b\b\b\b\b\b\b\b\b\b\b\b\b\b\b\b\b\b\b\b\b\b\b\b\b\b\b\b\b\b\b\b\b\b\b\b\b\b\b\b\b\b\b\b\b\b\b\b\b\b\b\b\b\b\b\b\b\b\b\b\b\b\b\b\b\b\b\b\b\b\b\b\b\b\b\b\b\b\b\b\b\b\b\b\b\b\b\b\b\b\b\b\b\b\b\b\b\b\b\b\b\b\b\b\b\b\b\b\b\b\b\b\b\b\b\b\b\b\b\b\b\b\b\b\b\b\b\b\b\b\b\b\b\b\b\b\b\b\b\b\b\b\b\b\b\b\b\b\b\b\b\b\b\b\b\b\b\b\b\b\b\b\b\b\b\b\b\b\b\b\b\b\b\b\b\b\b\b\b\b\b\b\b\b\b\b\b\b\b\b\b\b\b\b\b\b\b\b\b\b\b\b\b\b\b\b\b\b\b\b\b\b\b\b\b\b\b\b\b\b\b\b\b\b\b\b\b\b\b\b\b\b\b\b\b\b\b\b\b\b\b\b\b\b\b\b\b\b\b\b\b\b\b\b\b\b\b\b\b\b\b\b\b\b\b\b\b\b\b\b\b\b\b\b\b\b\b\b\b\b\b\b\b\b\b\b\b\b\b\b\b\b\b\b\b\b\b\b\b\b\b\b\b\b\b\b\b\b\b\b\b\b\b\b\b\b\b\b\b\b\b\b\b\b\b\b\b\b\b\b\b\b\b\b\b\b\b\b\b\b\b\b\b\b\b\b\b\b\b\b\b\b\b\b\b\b\b\b\b\b\b\b\b\b\b\b\b\b\b\b\b\b\b\b\b\b\b\b\b\b\b\b\b\b\b\b\b\b\b\b\b\b\b\b\b\b\b\b\b\b\b\b\b\b\b\b\b\b\b\b\b\b\b\b\b\b\b\b\b\b\b\b\b\b\b\b\b\b\b\b\b\b\b\b\b\b\b\b\b\b\b\b\b\b\b\b\b\b\b\b\b\b\b\b\b\b\b\b\b\b\b\b\b\b\b\b\b\b\b\b\b\b\b\b\b\b\b\b\b\b\b\b\b\b\b\b\b\b\b\b\b\b\b\b\b\b\b\b\b\b\b\b\b\b\b\b\b\b\b\b\b\b\b\b\b\b\b\b\b\b\b\b\b\b\b\b\b\b\b\b\b\b\b\b\b\b\b\b\b\b\b\b\b\b\b\b\b\b\b\b\b\b\b\b\b\b\b\b\b\b\b\b\b\b\b\b\b\b\b\b\b\b\b\b\b\b\b\b\b\b\b\b\b\b\b\b\b\b\b\b\b\b\b\b\b\b\b\b\b\b\b\b\b\b\b\b\b\b\b\b\b\b\b\b\b\b\b\b\b\b\b\b\b\b\b\b\b\b\b\b\b\b\b\b\b\b\b\b\b\b\b\b\b\b\b\b\b\b\b\b\b\b\b\b\b\b\b\b\b\b\b\b\b\b\b\b\b\b\b\b\b\b\b\b\b\b\b\b\b\b\b\b\b\b\b\b\b\b\b\b\b\b\b\b\b\b\b\b\b\b\b\b\b\b\b\b\b\b\b\b\b\b\b\b\b\b\b\b\b\b\b\b\b\b\b\b\b\b\b\b\b\b\b\b\b\b\b\b\b\b\b\b\b\b\b\b\b\b\b\b\b\b\b\b\b\b\b\b\b\b\b\b\b\b\b\b\b\b\b\b\b\b\b\b\b\b\b\b\b\b\b\b\b\b\b\b\b\b\b\b\b\b\b\b\b\b\b\b\b\b\b\b\b\b\b\b\b\b\b\b\b\b\b\b\b\b\b\b\b\b\b\b\b\b\b\b\b\b\b\b\b\b\b\b\b\b\b\b\b\b\b\b\b\b\b\b\b\b\b\b\b\b\b\b\b\b\b\b\b\b\b\b\b\b\b\b\b\b\b\b\b\b\b\b\b\b\b\b\b\b\b\b\b\b\b\b\b\b\b\b\b\b\b\b\b\b\b\b\b\b\b\b\b\b\b\b\b\b\b\b\b\b\b\b\b\b\b\b\b\b\b\b\b\b\b\b\b\b\b\b\b\b\b\b\b\b\b\b\b\b\b\b\b\b\b\b\b\b\b\b\b\b\b\b\b\b\b\b\b\b\b\b\b\b\b\b\b\b\b\b\b\b\b\b\b\b\b\b\b\b\b\b\b\b\b\b\b\b\b\b\b\b\b\b\b\b\b\b\b\b\b\b\b\b\b\b\b\b\b\b\b\b\b\b\b\b\b\b\b\b\b\b\b\b\b\b\b\b\b\b\b\b\b\b\b\b\b\b\b\b\b\b\b\b\b\b\b\b\b\b\b\b\b\b\b\b\b\b\b\b\b\b\b\b\b\b\b\b\b\b\b\b\b\b\b\b\b\b\b\b\b\b\b\b\b\b\b\b\b\b\b\b\b\b\b\b\b\b\b\b\b\b\b\b\b\b\b\b\b\b\b\b\b\b\b\b\b\b\b\b\b\b\b\b\b\b\b\b\b\b\b\b\b\b\b\b\b\b\b\b\b\b\b\b\b\b\b\b\b\b\b\b\b\b\b\b\b\b\b\b\b\b\b\b\b\b\b\b\b\b\b\b\b\b\b\b\b\b\b\b\b\b\b\b\b\b\b\b\b\b\b\b\b\b\b\b\b\b\b\b\b\b\b\b\b\b\b\b\b\b\b\b\b\b\b\b\b\b\b\b\b\b\b\b\b\b\b\b\b\b\b\b\b\b\b\b\b\b\b\b\b\b\b\b\b\b\b\b\b\b\b\b\b\b\b\b\b\b\b\b\b\b\b\b\b\b\b\b\b\b\b\b\b\b\b\b\b\b\b\b\b\b\b\b\b\b\b\b\b\b\b\b\b\b\b\b\b\b\b\b\b\b\b\b\b\b\b\b\b\b\b\b\b\b\b\b\b\b\b\b\b\b\b\b\b\b\b\b\b\b\b\b\b\b\b\b\b\b\b\b\b\b\b\b\b\b\b\b\b\b\b\b\b\b\b\b\b\b\b\b\b\b\b\b\b\b\b\b\b\b\b\b\bCPU times: user 3min 39s, sys: 3.53 s, total: 3min 43s\n",
      "Wall time: 34.7 s\n"
     ]
    }
   ],
   "source": [
    "%%time\n",
    "prediccion_Avion= modelo.predict(dataset_avion, verbose=1)\n",
    "prediccion_Auto= modelo.predict(dataset_auto, verbose=0)\n",
    "prediccion_Pajaro= modelo.predict(dataset_pajaro, verbose=0)\n",
    "prediccion_Gato= modelo.predict(dataset_gato, verbose=0)\n",
    "prediccion_Ciervo= modelo.predict(dataset_ciervo, verbose=0)\n",
    "prediccion_Perro= modelo.predict(dataset_perro, verbose=0)\n",
    "prediccion_Rana= modelo.predict(dataset_rana, verbose=0)\n",
    "prediccion_Caballo= modelo.predict(dataset_caballo, verbose=0)\n",
    "prediccion_Barco= modelo.predict(dataset_barco, verbose=0)\n",
    "prediccion_Camion= modelo.predict(dataset_camion, verbose=1)"
   ]
  },
  {
   "cell_type": "markdown",
   "metadata": {
    "deletable": true,
    "editable": true
   },
   "source": [
    "**Paso 4**: Desde en este paso en adelante, usaremos la API de Python Pandas que nos permitirá ordenar el resultado de obtenido desde la predicción de Keras. Para esto a partir de la salida de Keras(n-array) pasamos a un pandas dataframe. Y en la misma línea calculamos las mayores frecuencias por cada clase:\n"
   ]
  },
  {
   "cell_type": "code",
   "execution_count": 212,
   "metadata": {
    "collapsed": false
   },
   "outputs": [],
   "source": [
    "df_avion = pd.DataFrame(prediccion_Avion).max()\n",
    "df_auto = pd.DataFrame(prediccion_Auto).max()\n",
    "df_pajaro = pd.DataFrame(prediccion_Pajaro).max()\n",
    "df_gato = pd.DataFrame(prediccion_Gato).max()\n",
    "df_ciervo = pd.DataFrame(prediccion_Ciervo).max()\n",
    "df_perro = pd.DataFrame(prediccion_Perro).max()\n",
    "df_rana = pd.DataFrame(prediccion_Rana).max()\n",
    "df_caballo = pd.DataFrame(prediccion_Caballo).max()\n",
    "df_barco = pd.DataFrame(prediccion_Barco).max()\n",
    "df_camion = pd.DataFrame(prediccion_Camion).max()"
   ]
  },
  {
   "cell_type": "markdown",
   "metadata": {
    "deletable": true,
    "editable": true
   },
   "source": [
    "**Paso 5**: Finalmente aplicamos un sort descendente a la serie de pandas que fue la salida del punto anterior, para en el paso siguiente presentar los valores que tienden a confundirse por categoria:\n"
   ]
  },
  {
   "cell_type": "code",
   "execution_count": 213,
   "metadata": {
    "collapsed": false,
    "deletable": true,
    "editable": true
   },
   "outputs": [],
   "source": [
    "df_avion.sort_values(inplace=True,ascending=False)\n",
    "df_auto.sort_values(inplace=True,ascending=False)\n",
    "df_pajaro.sort_values(inplace=True,ascending=False)\n",
    "df_gato.sort_values(inplace=True,ascending=False)\n",
    "df_ciervo.sort_values(inplace=True,ascending=False)\n",
    "df_perro.sort_values(inplace=True,ascending=False)\n",
    "df_rana.sort_values(inplace=True,ascending=False)\n",
    "df_caballo.sort_values(inplace=True,ascending=False)\n",
    "df_barco.sort_values(inplace=True,ascending=False)\n",
    "df_camion.sort_values(inplace=True,ascending=False)"
   ]
  },
  {
   "cell_type": "code",
   "execution_count": 214,
   "metadata": {
    "collapsed": false
   },
   "outputs": [],
   "source": [
    "clases_avion = df_avion.index\n",
    "clases_auto = df_auto.index\n",
    "clases_pajaro = df_pajaro.index\n",
    "clases_gato = df_gato.index\n",
    "clases_ciervo = df_ciervo.index\n",
    "clases_perro = df_perro.index\n",
    "clases_rana = df_rana.index\n",
    "clases_caballo = df_caballo.index\n",
    "clases_barco = df_barco.index\n",
    "clases_camion = df_camion.index"
   ]
  },
  {
   "cell_type": "code",
   "execution_count": 216,
   "metadata": {
    "collapsed": false
   },
   "outputs": [
    {
     "name": "stdout",
     "output_type": "stream",
     "text": [
      "('Para Avion, la predicciones suele confundir: ', 'avion', ' y ', 'barco')\n",
      "('Para Auto, la predicciones suele confundir: ', 'auto', ' y ', 'camion')\n",
      "('Para Pajaro, la predicciones suele confundir: ', 'pajaro', ' y ', 'avion')\n",
      "('Para Gato, la predicciones suele confundir: ', 'avion', ' y ', 'rana')\n",
      "('Para Ciervo, la predicciones suele confundir: ', 'rana', ' y ', 'ciervo')\n",
      "('Para Perro, la predicciones suele confundir: ', 'perro', ' y ', 'avion')\n",
      "('Para Rana, la predicciones suele confundir: ', 'rana', ' y ', 'pajaro')\n",
      "('Para Caballo, la predicciones suele confundir: ', 'caballo', ' y ', 'perro')\n",
      "('Para Barco, la predicciones suele confundir: ', 'barco', ' y ', 'auto')\n",
      "('Para Camion, la predicciones suele confundir: ', 'camion', ' y ', 'auto')\n"
     ]
    }
   ],
   "source": [
    "print(\"Para Avion, la predicciones suele confundir: \",clases[clases_avion[0]],\" y \" ,clases[clases_avion[1]])\n",
    "print(\"Para Auto, la predicciones suele confundir: \",clases[clases_auto[0]],\" y \" ,clases[clases_auto[1]])\n",
    "print(\"Para Pajaro, la predicciones suele confundir: \",clases[clases_pajaro[0]],\" y \" ,clases[clases_pajaro[1]])\n",
    "print(\"Para Gato, la predicciones suele confundir: \",clases[clases_gato[0]],\" y \" ,clases[clases_gato[1]])\n",
    "print(\"Para Ciervo, la predicciones suele confundir: \",clases[clases_ciervo[0]],\" y \" ,clases[clases_ciervo[1]])\n",
    "print(\"Para Perro, la predicciones suele confundir: \",clases[clases_perro[0]],\" y \" ,clases[clases_perro[1]])\n",
    "print(\"Para Rana, la predicciones suele confundir: \",clases[clases_rana[0]],\" y \" ,clases[clases_rana[1]])\n",
    "print(\"Para Caballo, la predicciones suele confundir: \",clases[clases_caballo[0]],\" y \" ,clases[clases_caballo[1]])\n",
    "print(\"Para Barco, la predicciones suele confundir: \",clases[clases_barco[0]],\" y \" ,clases[clases_barco[1]])\n",
    "print(\"Para Camion, la predicciones suele confundir: \",clases[clases_camion[0]],\" y \" ,clases[clases_camion[1]])"
   ]
  },
  {
   "cell_type": "markdown",
   "metadata": {},
   "source": [
    "Como podemos ver en la mayoría de las categorías, salvo en las categorías “gato” y “ciervo” los resultados de la red son coherentes con las categorías. Esto bajo el escenario que el modelo había alcanzado un accuracy cercano al 73%. Además en termino de la confusión dentro de las categorías, esto puede deberse también son categorías que humano podría confundir y el modelo tampoco es tan profundo para que los feature maps estén muy especializados en detectar las características de bajo nivel que deferencia claramente por ejemplo un auto y un camión, ante el hecho que las imágenes tienen la misma escala en tamaño.\n"
   ]
  },
  {
   "cell_type": "code",
   "execution_count": null,
   "metadata": {
    "collapsed": true
   },
   "outputs": [],
   "source": []
  }
 ],
 "metadata": {
  "anaconda-cloud": {},
  "kernelspec": {
   "display_name": "Python [default]",
   "language": "python",
   "name": "python2"
  },
  "language_info": {
   "codemirror_mode": {
    "name": "ipython",
    "version": 2
   },
   "file_extension": ".py",
   "mimetype": "text/x-python",
   "name": "python",
   "nbconvert_exporter": "python",
   "pygments_lexer": "ipython2",
   "version": "2.7.12"
  }
 },
 "nbformat": 4,
 "nbformat_minor": 2
}
