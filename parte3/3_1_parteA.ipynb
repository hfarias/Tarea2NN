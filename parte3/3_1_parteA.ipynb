{
 "cells": [
  {
   "cell_type": "markdown",
   "metadata": {
    "deletable": true,
    "editable": true
   },
   "source": [
    "3.1 Reducción de Dimensionalidad\n",
    "-----\n"
   ]
  },
  {
   "cell_type": "markdown",
   "metadata": {
    "deletable": true,
    "editable": true
   },
   "source": [
    "### Leer Dataset\n",
    "-----\n"
   ]
  },
  {
   "cell_type": "code",
   "execution_count": 2,
   "metadata": {
    "collapsed": false
   },
   "outputs": [
    {
     "name": "stderr",
     "output_type": "stream",
     "text": [
      "Using TensorFlow backend.\n"
     ]
    }
   ],
   "source": [
    "from keras.layers import Input, Dense\n",
    "from keras.models import Model\n",
    "from keras.optimizers import SGD\n",
    "from keras.models import load_model\n"
   ]
  },
  {
   "cell_type": "code",
   "execution_count": 3,
   "metadata": {
    "collapsed": true
   },
   "outputs": [],
   "source": [
    "from keras.datasets import mnist\n",
    "import numpy as np\n",
    "from keras.utils import np_utils\n",
    "import matplotlib.pyplot as plt"
   ]
  },
  {
   "cell_type": "code",
   "execution_count": 10,
   "metadata": {
    "collapsed": true
   },
   "outputs": [],
   "source": [
    "from utils.multi_gpu import make_parallel"
   ]
  },
  {
   "cell_type": "code",
   "execution_count": 4,
   "metadata": {
    "collapsed": false,
    "deletable": true,
    "editable": true
   },
   "outputs": [],
   "source": [
    "(x_train, y_train), (x_test, y_test) = mnist.load_data()\n",
    "#Datos de entrenamiento\n",
    "x_train = x_train.astype('float32') / 255.\n",
    "x_train = x_train.reshape((len(x_train), np.prod(x_train.shape[1:])))\n",
    "#Datos de Test\n",
    "x_test = x_test.astype('float32') / 255.\n",
    "x_test = x_test.reshape((len(x_test), np.prod(x_test.shape[1:])))\n",
    "\n",
    "#Datos de validacion\n",
    "x_val = x_train[:5000, :]\n",
    "x_train = x_train[5000:, :]\n",
    "y_val = y_train[:5000]\n",
    "y_train = y_train[5000:]\n",
    "\n",
    "y_train = np_utils.to_categorical(y_train, 10)\n",
    "y_test = np_utils.to_categorical(y_test, 10)\n",
    "y_val = np_utils.to_categorical(y_val, 10)"
   ]
  },
  {
   "cell_type": "markdown",
   "metadata": {
    "deletable": true,
    "editable": true
   },
   "source": [
    "### Objetivo\n",
    "-----\n"
   ]
  },
  {
   "cell_type": "markdown",
   "metadata": {
    "collapsed": true,
    "deletable": true,
    "editable": true
   },
   "source": [
    "**(a)** Entrene un AE basico (1 capa escondida) para generar una representacion de MNIST en d′ = 2, 8, 32, 64 dimensiones. Justifique la eleccion de la funcion de perdida a utilizar y del criterio de entrenamiento en general. Determine el porcentaje de compresion obtenido y el error de reconstrucci ́on en cada caso. ¿Mejora el resultado si elegimos una funcion de activacion ReLU para el Encoder? ¿Podr ́ıa utilizarse esta activacion en el Decoder?"
   ]
  },
  {
   "cell_type": "code",
   "execution_count": 36,
   "metadata": {
    "collapsed": true
   },
   "outputs": [],
   "source": [
    "def simple_AE(x_train_,x_val_,d_, funciones_):\n",
    "    input_img = Input(shape=(784,))\n",
    "    encoded = Dense(d_, activation=funciones_[0])(input_img)\n",
    "    decoded = Dense(784, activation=funciones_[1])(encoded)\n",
    "    \n",
    "    autoencoder = Model(input=input_img, output=decoded)\n",
    "    encoder = Model(input=input_img, output=encoded)\n",
    "    encoded_input = Input(shape=(32,))\n",
    "    #decoder_layer = autoencoder.layers[-1]\n",
    "    #decoder = Model(input=encoded_input, output=decoder_layer(encoded_input))\n",
    "\n",
    "    autoencoder.compile(optimizer=SGD(lr=1.0), loss='binary_crossentropy')\n",
    "    autoencoder.fit(x_train_, x_train_,epochs=50,batch_size=25,shuffle=True,verbose=0,validation_data=(x_val_, x_val_))\n",
    "    autoencoder.save('modelos_a/basic_autoenconder_' + str(d_) + funciones_[0] + '_' + funciones_[1] + '.h5')"
   ]
  },
  {
   "cell_type": "markdown",
   "metadata": {},
   "source": [
    "Dimenciones del input:\n"
   ]
  },
  {
   "cell_type": "code",
   "execution_count": 37,
   "metadata": {
    "collapsed": true
   },
   "outputs": [],
   "source": [
    "dimensiones_input = [2, 8, 32, 64]"
   ]
  },
  {
   "cell_type": "markdown",
   "metadata": {},
   "source": [
    "Funciones de activación:"
   ]
  },
  {
   "cell_type": "code",
   "execution_count": 38,
   "metadata": {
    "collapsed": true
   },
   "outputs": [],
   "source": [
    "funciones_activacion = [('sigmoid', 'sigmoid'), ('relu', 'sigmoid'), ('sigmoid', 'relu')]"
   ]
  },
  {
   "cell_type": "code",
   "execution_count": null,
   "metadata": {
    "collapsed": true
   },
   "outputs": [],
   "source": []
  },
  {
   "cell_type": "code",
   "execution_count": 39,
   "metadata": {
    "collapsed": false
   },
   "outputs": [
    {
     "name": "stderr",
     "output_type": "stream",
     "text": [
      "/home/ubuntu/anaconda3/lib/python3.6/site-packages/ipykernel/__main__.py:6: UserWarning: Update your `Model` call to the Keras 2 API: `Model(inputs=Tensor(\"in..., outputs=Tensor(\"de...)`\n",
      "/home/ubuntu/anaconda3/lib/python3.6/site-packages/ipykernel/__main__.py:7: UserWarning: Update your `Model` call to the Keras 2 API: `Model(inputs=Tensor(\"in..., outputs=Tensor(\"de...)`\n"
     ]
    }
   ],
   "source": [
    "for dimension in dimensiones_input:\n",
    "    for funcion in funciones_activacion:\n",
    "        simple_AE(x_train,x_val,dimension, funcion)"
   ]
  },
  {
   "cell_type": "code",
   "execution_count": 40,
   "metadata": {
    "collapsed": false
   },
   "outputs": [
    {
     "name": "stdout",
     "output_type": "stream",
     "text": [
      "basic_autoenconder_2relu_sigmoid.h5\r\n",
      "basic_autoenconder_2sigmoid_relu.h5\r\n",
      "basic_autoenconder_2sigmoid_sigmoid.h5\r\n",
      "basic_autoenconder_32relu_sigmoid.h5\r\n",
      "basic_autoenconder_32sigmoid_relu.h5\r\n",
      "basic_autoenconder_32sigmoid_sigmoid.h5\r\n",
      "basic_autoenconder_64relu_sigmoid.h5\r\n",
      "basic_autoenconder_64sigmoid_relu.h5\r\n",
      "basic_autoenconder_64sigmoid_sigmoid.h5\r\n",
      "basic_autoenconder_8relu_sigmoid.h5\r\n",
      "basic_autoenconder_8sigmoid_relu.h5\r\n",
      "basic_autoenconder_8sigmoid_sigmoid.h5\r\n"
     ]
    }
   ],
   "source": [
    "ls modelos_a/"
   ]
  },
  {
   "cell_type": "code",
   "execution_count": null,
   "metadata": {
    "collapsed": true
   },
   "outputs": [],
   "source": []
  },
  {
   "cell_type": "markdown",
   "metadata": {},
   "source": [
    "Evaluamos por modelo su performance:"
   ]
  },
  {
   "cell_type": "code",
   "execution_count": 62,
   "metadata": {
    "collapsed": false
   },
   "outputs": [
    {
     "name": "stdout",
     "output_type": "stream",
     "text": [
      "Error de reconstruccion:  5.60%\n"
     ]
    }
   ],
   "source": [
    "basic_autoenconder_2relu_sigmoid = load_model('modelos_a/basic_autoenconder_2relu_sigmoid.h5')\n",
    "x_pred = basic_autoenconder_2relu_sigmoid.predict(x_test)\n",
    "m,n = x_test.shape\n",
    "aux = ((x_test - x_pred) ** 2).sum(axis=1) / n\n",
    "reconstruction_error = aux.sum() / m\n",
    "print('Error de reconstruccion:  %.2f%%' % (reconstruction_error*100))"
   ]
  },
  {
   "cell_type": "code",
   "execution_count": 63,
   "metadata": {
    "collapsed": false
   },
   "outputs": [
    {
     "name": "stdout",
     "output_type": "stream",
     "text": [
      "Error de reconstruccion:  56.99%\n"
     ]
    }
   ],
   "source": [
    "basic_autoenconder_2sigmoid_relu = load_model('modelos_a/basic_autoenconder_2sigmoid_relu.h5')\n",
    "x_pred = basic_autoenconder_2sigmoid_relu.predict(x_test)\n",
    "m,n = x_test.shape\n",
    "aux = ((x_test - x_pred) ** 2).sum(axis=1) / n\n",
    "reconstruction_error = aux.sum() / m\n",
    "print('Error de reconstruccion:  %.2f%%' % (reconstruction_error*100))"
   ]
  },
  {
   "cell_type": "code",
   "execution_count": 43,
   "metadata": {
    "collapsed": false
   },
   "outputs": [
    {
     "name": "stdout",
     "output_type": "stream",
     "text": [
      "Error de reconstruccion:  6.75%\n"
     ]
    }
   ],
   "source": [
    "basic_autoenconder_2sigmoid_sigmoid = load_model('modelos_a/basic_autoenconder_2sigmoid_sigmoid.h5')\n",
    "x_pred = basic_autoenconder_2sigmoid_sigmoid.predict(x_test)\n",
    "m,n = x_test.shape\n",
    "aux = ((x_test - x_pred) ** 2).sum(axis=1) / n\n",
    "reconstruction_error = aux.sum() / m\n",
    "print('Error de reconstruccion:  %.2f%%' % (reconstruction_error*100))"
   ]
  },
  {
   "cell_type": "code",
   "execution_count": 61,
   "metadata": {
    "collapsed": false
   },
   "outputs": [
    {
     "name": "stdout",
     "output_type": "stream",
     "text": [
      "Error de reconstruccion:  0.97%\n"
     ]
    }
   ],
   "source": [
    "basic_autoenconder_32relu_sigmoid = load_model('modelos_a/basic_autoenconder_32relu_sigmoid.h5')\n",
    "x_pred = basic_autoenconder_32relu_sigmoid.predict(x_test)\n",
    "m,n = x_test.shape\n",
    "aux = ((x_test - x_pred) ** 2).sum(axis=1) / n\n",
    "reconstruction_error = aux.sum() / m\n",
    "print('Error de reconstruccion:  %.2f%%' % (reconstruction_error*100))"
   ]
  },
  {
   "cell_type": "code",
   "execution_count": 60,
   "metadata": {
    "collapsed": false
   },
   "outputs": [
    {
     "name": "stdout",
     "output_type": "stream",
     "text": [
      "Error de reconstruccion:  33342.51%\n"
     ]
    }
   ],
   "source": [
    "basic_autoenconder_32sigmoid_relu = load_model('modelos_a/basic_autoenconder_32sigmoid_relu.h5')\n",
    "x_pred = basic_autoenconder_32sigmoid_relu.predict(x_test)\n",
    "m,n = x_test.shape\n",
    "aux = ((x_test - x_pred) ** 2).sum(axis=1) / n\n",
    "reconstruction_error = aux.sum() / m\n",
    "print('Error de reconstruccion:  %.2f%%' % (reconstruction_error*100))"
   ]
  },
  {
   "cell_type": "code",
   "execution_count": 59,
   "metadata": {
    "collapsed": false
   },
   "outputs": [
    {
     "name": "stdout",
     "output_type": "stream",
     "text": [
      "Error de reconstruccion:  3.68%\n"
     ]
    }
   ],
   "source": [
    "basic_autoenconder_32sigmoid_sigmoid = load_model('modelos_a/basic_autoenconder_32sigmoid_sigmoid.h5')\n",
    "x_pred = basic_autoenconder_32sigmoid_sigmoid.predict(x_test)\n",
    "m,n = x_test.shape\n",
    "aux = ((x_test - x_pred) ** 2).sum(axis=1) / n\n",
    "reconstruction_error = aux.sum() / m\n",
    "print('Error de reconstruccion:  %.2f%%' % (reconstruction_error*100))"
   ]
  },
  {
   "cell_type": "code",
   "execution_count": 58,
   "metadata": {
    "collapsed": false
   },
   "outputs": [
    {
     "name": "stdout",
     "output_type": "stream",
     "text": [
      "Error de reconstruccion:  0.40%\n"
     ]
    }
   ],
   "source": [
    "basic_autoenconder_64relu_sigmoid = load_model('modelos_a/basic_autoenconder_64relu_sigmoid.h5')\n",
    "x_pred = basic_autoenconder_64relu_sigmoid.predict(x_test)\n",
    "m,n = x_test.shape\n",
    "aux = ((x_test - x_pred) ** 2).sum(axis=1) / n\n",
    "reconstruction_error = aux.sum() / m\n",
    "print('Error de reconstruccion:  %.2f%%' % (reconstruction_error*100))"
   ]
  },
  {
   "cell_type": "code",
   "execution_count": 57,
   "metadata": {
    "collapsed": false
   },
   "outputs": [
    {
     "name": "stdout",
     "output_type": "stream",
     "text": [
      "Error de reconstruccion:  268689.04%\n"
     ]
    }
   ],
   "source": [
    "basic_autoenconder_64sigmoid_relu = load_model('modelos_a/basic_autoenconder_64sigmoid_relu.h5')\n",
    "x_pred = basic_autoenconder_64sigmoid_relu.predict(x_test)\n",
    "m,n = x_test.shape\n",
    "aux = ((x_test - x_pred) ** 2).sum(axis=1) / n\n",
    "reconstruction_error = aux.sum() / m\n",
    "print('Error de reconstruccion:  %.2f%%' % (reconstruction_error*100))"
   ]
  },
  {
   "cell_type": "code",
   "execution_count": 56,
   "metadata": {
    "collapsed": false
   },
   "outputs": [
    {
     "name": "stdout",
     "output_type": "stream",
     "text": [
      "Error de reconstruccion:  2.01%\n"
     ]
    }
   ],
   "source": [
    "basic_autoenconder_64sigmoid_sigmoid = load_model('modelos_a/basic_autoenconder_64sigmoid_sigmoid.h5')\n",
    "x_pred = basic_autoenconder_64sigmoid_sigmoid.predict(x_test)\n",
    "m,n = x_test.shape\n",
    "aux = ((x_test - x_pred) ** 2).sum(axis=1) / n\n",
    "reconstruction_error = aux.sum() / m\n",
    "print('Error de reconstruccion:  %.2f%%' % (reconstruction_error*100))"
   ]
  },
  {
   "cell_type": "code",
   "execution_count": 55,
   "metadata": {
    "collapsed": false
   },
   "outputs": [
    {
     "name": "stdout",
     "output_type": "stream",
     "text": [
      "Error de reconstruccion:  3.46%\n"
     ]
    }
   ],
   "source": [
    "basic_autoenconder_8relu_sigmoid = load_model('modelos_a/basic_autoenconder_8relu_sigmoid.h5')\n",
    "x_pred = basic_autoenconder_8relu_sigmoid.predict(x_test)\n",
    "m,n = x_test.shape\n",
    "aux = ((x_test - x_pred) ** 2).sum(axis=1) / n\n",
    "reconstruction_error = aux.sum() / m\n",
    "print('Error de reconstruccion:  %.2f%%' % (reconstruction_error*100))"
   ]
  },
  {
   "cell_type": "code",
   "execution_count": 54,
   "metadata": {
    "collapsed": false
   },
   "outputs": [
    {
     "name": "stdout",
     "output_type": "stream",
     "text": [
      "Error de reconstruccion:  261333.00%\n"
     ]
    }
   ],
   "source": [
    "basic_autoenconder_8sigmoid_relu = load_model('modelos_a/basic_autoenconder_8sigmoid_relu.h5')\n",
    "x_pred = basic_autoenconder_8sigmoid_relu.predict(x_test)\n",
    "m,n = x_test.shape\n",
    "aux = ((x_test - x_pred) ** 2).sum(axis=1) / n\n",
    "reconstruction_error = aux.sum() / m\n",
    "print('Error de reconstruccion:  %.2f%%' % (reconstruction_error*100))"
   ]
  },
  {
   "cell_type": "code",
   "execution_count": 53,
   "metadata": {
    "collapsed": false
   },
   "outputs": [
    {
     "name": "stdout",
     "output_type": "stream",
     "text": [
      "Error de reconstruccion:  6.75%\n"
     ]
    }
   ],
   "source": [
    "basic_autoenconder_8sigmoid_sigmoid = load_model('modelos_a/basic_autoenconder_8sigmoid_sigmoid.h5')\n",
    "x_pred = basic_autoenconder_8sigmoid_sigmoid.predict(x_test)\n",
    "m,n = x_test.shape\n",
    "aux = ((x_test - x_pred) ** 2).sum(axis=1) / n\n",
    "reconstruction_error = aux.sum() / m\n",
    "print('Error de reconstruccion:  %.2f%%' % (reconstruction_error*100))"
   ]
  },
  {
   "cell_type": "markdown",
   "metadata": {},
   "source": [
    "Del los resultados podemos concluir que la incorporación de la no-linealidad con ReLU no tiene resultados satisfactorios, asi tambien existe o se puede evidenciar una correlación entre la dimencionalidad y el error. "
   ]
  }
 ],
 "metadata": {
  "anaconda-cloud": {},
  "kernelspec": {
   "display_name": "Python 3",
   "language": "python",
   "name": "python3"
  },
  "language_info": {
   "codemirror_mode": {
    "name": "ipython",
    "version": 3
   },
   "file_extension": ".py",
   "mimetype": "text/x-python",
   "name": "python",
   "nbconvert_exporter": "python",
   "pygments_lexer": "ipython3",
   "version": "3.6.0"
  }
 },
 "nbformat": 4,
 "nbformat_minor": 2
}
